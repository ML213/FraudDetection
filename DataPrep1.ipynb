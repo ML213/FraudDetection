{
  "nbformat": 4,
  "nbformat_minor": 0,
  "metadata": {
    "colab": {
      "name": "DataPrep1.ipynb",
      "version": "0.3.2",
      "provenance": [],
      "collapsed_sections": [],
      "include_colab_link": true
    },
    "kernelspec": {
      "name": "python3",
      "display_name": "Python 3"
    },
    "accelerator": "GPU"
  },
  "cells": [
    {
      "cell_type": "markdown",
      "metadata": {
        "id": "view-in-github",
        "colab_type": "text"
      },
      "source": [
        "<a href=\"https://colab.research.google.com/github/ML213/FraudDetection/blob/master/DataPrep1.ipynb\" target=\"_parent\"><img src=\"https://colab.research.google.com/assets/colab-badge.svg\" alt=\"Open In Colab\"/></a>"
      ]
    },
    {
      "cell_type": "code",
      "metadata": {
        "id": "RKUsRwFf6Hj2",
        "colab_type": "code",
        "colab": {}
      },
      "source": [
        "#SHefali's comment\n",
        "import gspread\n",
        "from oauth2client.client import GoogleCredentials\n",
        "\n",
        "gc = gspread.authorize(GoogleCredentials.get_application_default())\n",
        "#Open given sheet\n",
        "worksheet = gc.open('PS__log.csv').sheet1\n",
        "\n",
        "# Read contents of CSV file\n",
        "bli_rows = worksheet.get_all_values()\n",
        "\n",
        "# Convert to a DataFrame and render.\n",
        "import pandas as pd\n",
        "bli  = pd.DataFrame.from_records(bli_rows, columns = bli_rows[0])\n",
        "\n",
        "bli[\"Life satisfaction\"].head()"
      ],
      "execution_count": 0,
      "outputs": []
    }
  ]
}
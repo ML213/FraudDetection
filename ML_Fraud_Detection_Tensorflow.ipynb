{
 "cells": [
  {
   "cell_type": "code",
   "execution_count": 1,
   "metadata": {
    "colab": {
     "base_uri": "https://localhost:8080/",
     "height": 505
    },
    "colab_type": "code",
    "executionInfo": {
     "elapsed": 77202,
     "status": "ok",
     "timestamp": 1565543212007,
     "user": {
      "displayName": "Girish Kale",
      "photoUrl": "https://lh6.googleusercontent.com/-4N2IkDyaeEc/AAAAAAAAAAI/AAAAAAAASWE/To_sRqtOG5E/s64/photo.jpg",
      "userId": "14754894672992950083"
     },
     "user_tz": 240
    },
    "id": "hnY_jSUvL2vB",
    "outputId": "26a49ce7-20c8-4a1f-ddf4-21c90b20b554"
   },
   "outputs": [],
   "source": [
    "#from __future__ import absolute_import, division, print_function\n",
    "\n",
    "#!pip install tensorflow-gpu==2.0.0-alpha0\n",
    "import tensorflow as tf"
   ]
  },
  {
   "cell_type": "code",
   "execution_count": 2,
   "metadata": {
    "colab": {
     "base_uri": "https://localhost:8080/",
     "height": 367
    },
    "colab_type": "code",
    "executionInfo": {
     "elapsed": 19327,
     "status": "ok",
     "timestamp": 1565543987922,
     "user": {
      "displayName": "Girish Kale",
      "photoUrl": "https://lh6.googleusercontent.com/-4N2IkDyaeEc/AAAAAAAAAAI/AAAAAAAASWE/To_sRqtOG5E/s64/photo.jpg",
      "userId": "14754894672992950083"
     },
     "user_tz": 240
    },
    "id": "RKUsRwFf6Hj2",
    "outputId": "afec85a5-d0de-4258-ad90-93887eccad2f"
   },
   "outputs": [
    {
     "name": "stderr",
     "output_type": "stream",
     "text": [
      "C:\\Users\\giris\\Anaconda3\\lib\\site-packages\\numpy\\lib\\arraysetops.py:569: FutureWarning: elementwise comparison failed; returning scalar instead, but in the future will perform elementwise comparison\n",
      "  mask |= (ar1 == a)\n"
     ]
    },
    {
     "name": "stdout",
     "output_type": "stream",
     "text": [
      "<class 'pandas.core.frame.DataFrame'>\n",
      "Int64Index: 950000 entries, 138 to 542\n",
      "Data columns (total 10 columns):\n",
      "type              950000 non-null object\n",
      "amount            950000 non-null float64\n",
      "nameOrig          950000 non-null object\n",
      "oldbalanceOrg     950000 non-null float64\n",
      "newbalanceOrig    950000 non-null float64\n",
      "nameDest          950000 non-null object\n",
      "oldbalanceDest    950000 non-null float64\n",
      "newbalanceDest    950000 non-null float64\n",
      "isFraud           950000 non-null int64\n",
      "isFlaggedFraud    950000 non-null int64\n",
      "dtypes: float64(5), int64(2), object(3)\n",
      "memory usage: 79.7+ MB\n",
      "None\n"
     ]
    }
   ],
   "source": [
    "import numpy as np\n",
    "from sklearn.cluster import KMeans\n",
    "import matplotlib.pyplot as plt\n",
    "import random\n",
    "from sklearn.metrics import silhouette_score\n",
    "from sklearn.cluster import AgglomerativeClustering\n",
    "random.seed(42)\n",
    "\n",
    "#from google.colab import drive\n",
    "#drive.mount('/content/gdrive')\n",
    "\n",
    "#filePath =\"/content/gdrive/My Drive/ML_TeamProject/PS_20174392719_1491204439457_log.csv\"\n",
    "#filePath =\"/content/gdrive/My Drive/PS_20174392719_1491204439457_log.csv\"\n",
    "filePath =\"PS_20174392719_1491204439457_log.csv\"\n",
    "\n",
    "import pandas as pd\n",
    "data = pd.read_csv(filePath, sep=\",\", index_col=0)\n",
    "\n",
    "df = data.sample(n=950000, random_state=random.seed(42))\n",
    "\n",
    "print(df.info())"
   ]
  },
  {
   "cell_type": "code",
   "execution_count": 3,
   "metadata": {
    "colab": {
     "base_uri": "https://localhost:8080/",
     "height": 1000
    },
    "colab_type": "code",
    "executionInfo": {
     "elapsed": 250,
     "status": "ok",
     "timestamp": 1565544038896,
     "user": {
      "displayName": "Girish Kale",
      "photoUrl": "https://lh6.googleusercontent.com/-4N2IkDyaeEc/AAAAAAAAAAI/AAAAAAAASWE/To_sRqtOG5E/s64/photo.jpg",
      "userId": "14754894672992950083"
     },
     "user_tz": 240
    },
    "id": "X8Y8NL5tJ1uW",
    "outputId": "0c6ac9a5-ab22-48d3-c4af-9f12db8ae475"
   },
   "outputs": [
    {
     "data": {
      "text/html": [
       "<div>\n",
       "<style scoped>\n",
       "    .dataframe tbody tr th:only-of-type {\n",
       "        vertical-align: middle;\n",
       "    }\n",
       "\n",
       "    .dataframe tbody tr th {\n",
       "        vertical-align: top;\n",
       "    }\n",
       "\n",
       "    .dataframe thead th {\n",
       "        text-align: right;\n",
       "    }\n",
       "</style>\n",
       "<table border=\"1\" class=\"dataframe\">\n",
       "  <thead>\n",
       "    <tr style=\"text-align: right;\">\n",
       "      <th></th>\n",
       "      <th>type</th>\n",
       "      <th>amount</th>\n",
       "      <th>nameOrig</th>\n",
       "      <th>oldbalanceOrg</th>\n",
       "      <th>newbalanceOrig</th>\n",
       "      <th>nameDest</th>\n",
       "      <th>oldbalanceDest</th>\n",
       "      <th>newbalanceDest</th>\n",
       "      <th>isFraud</th>\n",
       "      <th>isFlaggedFraud</th>\n",
       "    </tr>\n",
       "    <tr>\n",
       "      <th>step</th>\n",
       "      <th></th>\n",
       "      <th></th>\n",
       "      <th></th>\n",
       "      <th></th>\n",
       "      <th></th>\n",
       "      <th></th>\n",
       "      <th></th>\n",
       "      <th></th>\n",
       "      <th></th>\n",
       "      <th></th>\n",
       "    </tr>\n",
       "  </thead>\n",
       "  <tbody>\n",
       "    <tr>\n",
       "      <th>709</th>\n",
       "      <td>TRANSFER</td>\n",
       "      <td>242296.17</td>\n",
       "      <td>C535302480</td>\n",
       "      <td>242296.17</td>\n",
       "      <td>0.00</td>\n",
       "      <td>C1442778560</td>\n",
       "      <td>0.00</td>\n",
       "      <td>0.00</td>\n",
       "      <td>1</td>\n",
       "      <td>0</td>\n",
       "    </tr>\n",
       "    <tr>\n",
       "      <th>534</th>\n",
       "      <td>TRANSFER</td>\n",
       "      <td>209340.53</td>\n",
       "      <td>C447114205</td>\n",
       "      <td>209340.53</td>\n",
       "      <td>0.00</td>\n",
       "      <td>C1658435419</td>\n",
       "      <td>0.00</td>\n",
       "      <td>0.00</td>\n",
       "      <td>1</td>\n",
       "      <td>0</td>\n",
       "    </tr>\n",
       "    <tr>\n",
       "      <th>36</th>\n",
       "      <td>CASH_OUT</td>\n",
       "      <td>32382.96</td>\n",
       "      <td>C1507237385</td>\n",
       "      <td>32382.96</td>\n",
       "      <td>0.00</td>\n",
       "      <td>C53062849</td>\n",
       "      <td>0.00</td>\n",
       "      <td>32382.96</td>\n",
       "      <td>1</td>\n",
       "      <td>0</td>\n",
       "    </tr>\n",
       "    <tr>\n",
       "      <th>115</th>\n",
       "      <td>TRANSFER</td>\n",
       "      <td>530377.28</td>\n",
       "      <td>C1741821297</td>\n",
       "      <td>530377.28</td>\n",
       "      <td>0.00</td>\n",
       "      <td>C182731485</td>\n",
       "      <td>0.00</td>\n",
       "      <td>0.00</td>\n",
       "      <td>1</td>\n",
       "      <td>0</td>\n",
       "    </tr>\n",
       "    <tr>\n",
       "      <th>278</th>\n",
       "      <td>TRANSFER</td>\n",
       "      <td>240580.40</td>\n",
       "      <td>C338881900</td>\n",
       "      <td>240580.40</td>\n",
       "      <td>0.00</td>\n",
       "      <td>C738144053</td>\n",
       "      <td>0.00</td>\n",
       "      <td>0.00</td>\n",
       "      <td>1</td>\n",
       "      <td>0</td>\n",
       "    </tr>\n",
       "    <tr>\n",
       "      <th>724</th>\n",
       "      <td>TRANSFER</td>\n",
       "      <td>1379501.18</td>\n",
       "      <td>C1083455984</td>\n",
       "      <td>1379501.18</td>\n",
       "      <td>0.00</td>\n",
       "      <td>C662399585</td>\n",
       "      <td>0.00</td>\n",
       "      <td>0.00</td>\n",
       "      <td>1</td>\n",
       "      <td>0</td>\n",
       "    </tr>\n",
       "    <tr>\n",
       "      <th>569</th>\n",
       "      <td>TRANSFER</td>\n",
       "      <td>51416.07</td>\n",
       "      <td>C1275321415</td>\n",
       "      <td>51416.07</td>\n",
       "      <td>0.00</td>\n",
       "      <td>C1417015196</td>\n",
       "      <td>0.00</td>\n",
       "      <td>0.00</td>\n",
       "      <td>1</td>\n",
       "      <td>0</td>\n",
       "    </tr>\n",
       "    <tr>\n",
       "      <th>450</th>\n",
       "      <td>TRANSFER</td>\n",
       "      <td>422261.63</td>\n",
       "      <td>C105750198</td>\n",
       "      <td>422261.63</td>\n",
       "      <td>0.00</td>\n",
       "      <td>C1172379830</td>\n",
       "      <td>0.00</td>\n",
       "      <td>0.00</td>\n",
       "      <td>1</td>\n",
       "      <td>0</td>\n",
       "    </tr>\n",
       "    <tr>\n",
       "      <th>680</th>\n",
       "      <td>TRANSFER</td>\n",
       "      <td>1685692.11</td>\n",
       "      <td>C1039970092</td>\n",
       "      <td>1685692.11</td>\n",
       "      <td>0.00</td>\n",
       "      <td>C476797859</td>\n",
       "      <td>0.00</td>\n",
       "      <td>0.00</td>\n",
       "      <td>1</td>\n",
       "      <td>0</td>\n",
       "    </tr>\n",
       "    <tr>\n",
       "      <th>25</th>\n",
       "      <td>TRANSFER</td>\n",
       "      <td>802382.45</td>\n",
       "      <td>C127098115</td>\n",
       "      <td>802382.45</td>\n",
       "      <td>0.00</td>\n",
       "      <td>C1570699013</td>\n",
       "      <td>0.00</td>\n",
       "      <td>0.00</td>\n",
       "      <td>1</td>\n",
       "      <td>0</td>\n",
       "    </tr>\n",
       "    <tr>\n",
       "      <th>667</th>\n",
       "      <td>TRANSFER</td>\n",
       "      <td>429257.45</td>\n",
       "      <td>C684872435</td>\n",
       "      <td>429257.45</td>\n",
       "      <td>0.00</td>\n",
       "      <td>C227709254</td>\n",
       "      <td>0.00</td>\n",
       "      <td>0.00</td>\n",
       "      <td>1</td>\n",
       "      <td>0</td>\n",
       "    </tr>\n",
       "    <tr>\n",
       "      <th>355</th>\n",
       "      <td>CASH_OUT</td>\n",
       "      <td>42483.97</td>\n",
       "      <td>C1595793252</td>\n",
       "      <td>42483.97</td>\n",
       "      <td>0.00</td>\n",
       "      <td>C636454309</td>\n",
       "      <td>51495.75</td>\n",
       "      <td>93979.72</td>\n",
       "      <td>1</td>\n",
       "      <td>0</td>\n",
       "    </tr>\n",
       "    <tr>\n",
       "      <th>568</th>\n",
       "      <td>CASH_OUT</td>\n",
       "      <td>2747.85</td>\n",
       "      <td>C598860106</td>\n",
       "      <td>2747.85</td>\n",
       "      <td>0.00</td>\n",
       "      <td>C2038068199</td>\n",
       "      <td>1103433.35</td>\n",
       "      <td>1106181.20</td>\n",
       "      <td>1</td>\n",
       "      <td>0</td>\n",
       "    </tr>\n",
       "    <tr>\n",
       "      <th>521</th>\n",
       "      <td>TRANSFER</td>\n",
       "      <td>48734.24</td>\n",
       "      <td>C1051865605</td>\n",
       "      <td>48734.24</td>\n",
       "      <td>0.00</td>\n",
       "      <td>C2005579238</td>\n",
       "      <td>0.00</td>\n",
       "      <td>0.00</td>\n",
       "      <td>1</td>\n",
       "      <td>0</td>\n",
       "    </tr>\n",
       "    <tr>\n",
       "      <th>462</th>\n",
       "      <td>TRANSFER</td>\n",
       "      <td>4342582.37</td>\n",
       "      <td>C1976332867</td>\n",
       "      <td>4342582.37</td>\n",
       "      <td>0.00</td>\n",
       "      <td>C1903233179</td>\n",
       "      <td>0.00</td>\n",
       "      <td>0.00</td>\n",
       "      <td>1</td>\n",
       "      <td>0</td>\n",
       "    </tr>\n",
       "    <tr>\n",
       "      <th>600</th>\n",
       "      <td>TRANSFER</td>\n",
       "      <td>540154.62</td>\n",
       "      <td>C415858765</td>\n",
       "      <td>540154.62</td>\n",
       "      <td>0.00</td>\n",
       "      <td>C1485040019</td>\n",
       "      <td>0.00</td>\n",
       "      <td>0.00</td>\n",
       "      <td>1</td>\n",
       "      <td>0</td>\n",
       "    </tr>\n",
       "    <tr>\n",
       "      <th>156</th>\n",
       "      <td>CASH_OUT</td>\n",
       "      <td>619836.33</td>\n",
       "      <td>C1847194687</td>\n",
       "      <td>619836.33</td>\n",
       "      <td>0.00</td>\n",
       "      <td>C1466605034</td>\n",
       "      <td>712633.49</td>\n",
       "      <td>1332469.82</td>\n",
       "      <td>1</td>\n",
       "      <td>0</td>\n",
       "    </tr>\n",
       "    <tr>\n",
       "      <th>608</th>\n",
       "      <td>TRANSFER</td>\n",
       "      <td>388171.95</td>\n",
       "      <td>C1413288238</td>\n",
       "      <td>388171.95</td>\n",
       "      <td>0.00</td>\n",
       "      <td>C1384608658</td>\n",
       "      <td>0.00</td>\n",
       "      <td>0.00</td>\n",
       "      <td>1</td>\n",
       "      <td>0</td>\n",
       "    </tr>\n",
       "    <tr>\n",
       "      <th>410</th>\n",
       "      <td>TRANSFER</td>\n",
       "      <td>206985.26</td>\n",
       "      <td>C1041263133</td>\n",
       "      <td>206985.26</td>\n",
       "      <td>0.00</td>\n",
       "      <td>C6898692</td>\n",
       "      <td>0.00</td>\n",
       "      <td>0.00</td>\n",
       "      <td>1</td>\n",
       "      <td>0</td>\n",
       "    </tr>\n",
       "    <tr>\n",
       "      <th>92</th>\n",
       "      <td>CASH_OUT</td>\n",
       "      <td>1461930.03</td>\n",
       "      <td>C1928781788</td>\n",
       "      <td>1461930.03</td>\n",
       "      <td>0.00</td>\n",
       "      <td>C1636281428</td>\n",
       "      <td>3762496.73</td>\n",
       "      <td>5224426.76</td>\n",
       "      <td>1</td>\n",
       "      <td>0</td>\n",
       "    </tr>\n",
       "    <tr>\n",
       "      <th>66</th>\n",
       "      <td>CASH_OUT</td>\n",
       "      <td>3444943.59</td>\n",
       "      <td>C127639062</td>\n",
       "      <td>3444943.59</td>\n",
       "      <td>0.00</td>\n",
       "      <td>C1426710143</td>\n",
       "      <td>217174.65</td>\n",
       "      <td>3662118.24</td>\n",
       "      <td>1</td>\n",
       "      <td>0</td>\n",
       "    </tr>\n",
       "    <tr>\n",
       "      <th>296</th>\n",
       "      <td>TRANSFER</td>\n",
       "      <td>261874.86</td>\n",
       "      <td>C660614375</td>\n",
       "      <td>261874.86</td>\n",
       "      <td>0.00</td>\n",
       "      <td>C542723764</td>\n",
       "      <td>0.00</td>\n",
       "      <td>0.00</td>\n",
       "      <td>1</td>\n",
       "      <td>0</td>\n",
       "    </tr>\n",
       "    <tr>\n",
       "      <th>287</th>\n",
       "      <td>CASH_OUT</td>\n",
       "      <td>223730.40</td>\n",
       "      <td>C2056953445</td>\n",
       "      <td>223730.40</td>\n",
       "      <td>0.00</td>\n",
       "      <td>C685901539</td>\n",
       "      <td>3375498.70</td>\n",
       "      <td>3599229.10</td>\n",
       "      <td>1</td>\n",
       "      <td>0</td>\n",
       "    </tr>\n",
       "    <tr>\n",
       "      <th>262</th>\n",
       "      <td>TRANSFER</td>\n",
       "      <td>639680.32</td>\n",
       "      <td>C1449539752</td>\n",
       "      <td>639680.32</td>\n",
       "      <td>0.00</td>\n",
       "      <td>C1011349802</td>\n",
       "      <td>0.00</td>\n",
       "      <td>0.00</td>\n",
       "      <td>1</td>\n",
       "      <td>0</td>\n",
       "    </tr>\n",
       "    <tr>\n",
       "      <th>124</th>\n",
       "      <td>TRANSFER</td>\n",
       "      <td>1399637.19</td>\n",
       "      <td>C2129900930</td>\n",
       "      <td>1399637.19</td>\n",
       "      <td>0.00</td>\n",
       "      <td>C1804261014</td>\n",
       "      <td>0.00</td>\n",
       "      <td>0.00</td>\n",
       "      <td>1</td>\n",
       "      <td>0</td>\n",
       "    </tr>\n",
       "    <tr>\n",
       "      <th>177</th>\n",
       "      <td>CASH_OUT</td>\n",
       "      <td>239556.06</td>\n",
       "      <td>C45982560</td>\n",
       "      <td>239556.06</td>\n",
       "      <td>0.00</td>\n",
       "      <td>C1554818720</td>\n",
       "      <td>1726925.54</td>\n",
       "      <td>1966481.60</td>\n",
       "      <td>1</td>\n",
       "      <td>0</td>\n",
       "    </tr>\n",
       "    <tr>\n",
       "      <th>1</th>\n",
       "      <td>TRANSFER</td>\n",
       "      <td>2806.00</td>\n",
       "      <td>C1420196421</td>\n",
       "      <td>2806.00</td>\n",
       "      <td>0.00</td>\n",
       "      <td>C972765878</td>\n",
       "      <td>0.00</td>\n",
       "      <td>0.00</td>\n",
       "      <td>1</td>\n",
       "      <td>0</td>\n",
       "    </tr>\n",
       "    <tr>\n",
       "      <th>464</th>\n",
       "      <td>TRANSFER</td>\n",
       "      <td>1219062.64</td>\n",
       "      <td>C357942750</td>\n",
       "      <td>1219062.64</td>\n",
       "      <td>0.00</td>\n",
       "      <td>C1229695480</td>\n",
       "      <td>0.00</td>\n",
       "      <td>0.00</td>\n",
       "      <td>1</td>\n",
       "      <td>0</td>\n",
       "    </tr>\n",
       "    <tr>\n",
       "      <th>495</th>\n",
       "      <td>CASH_OUT</td>\n",
       "      <td>58737.53</td>\n",
       "      <td>C517543393</td>\n",
       "      <td>58737.53</td>\n",
       "      <td>0.00</td>\n",
       "      <td>C1684807831</td>\n",
       "      <td>887496.11</td>\n",
       "      <td>946233.64</td>\n",
       "      <td>1</td>\n",
       "      <td>0</td>\n",
       "    </tr>\n",
       "    <tr>\n",
       "      <th>198</th>\n",
       "      <td>TRANSFER</td>\n",
       "      <td>2153055.36</td>\n",
       "      <td>C156186481</td>\n",
       "      <td>2153055.36</td>\n",
       "      <td>0.00</td>\n",
       "      <td>C1456746018</td>\n",
       "      <td>0.00</td>\n",
       "      <td>0.00</td>\n",
       "      <td>1</td>\n",
       "      <td>0</td>\n",
       "    </tr>\n",
       "    <tr>\n",
       "      <th>...</th>\n",
       "      <td>...</td>\n",
       "      <td>...</td>\n",
       "      <td>...</td>\n",
       "      <td>...</td>\n",
       "      <td>...</td>\n",
       "      <td>...</td>\n",
       "      <td>...</td>\n",
       "      <td>...</td>\n",
       "      <td>...</td>\n",
       "      <td>...</td>\n",
       "    </tr>\n",
       "    <tr>\n",
       "      <th>485</th>\n",
       "      <td>CASH_OUT</td>\n",
       "      <td>471906.60</td>\n",
       "      <td>C437383157</td>\n",
       "      <td>471906.60</td>\n",
       "      <td>0.00</td>\n",
       "      <td>C943161690</td>\n",
       "      <td>5930.71</td>\n",
       "      <td>477837.30</td>\n",
       "      <td>1</td>\n",
       "      <td>0</td>\n",
       "    </tr>\n",
       "    <tr>\n",
       "      <th>565</th>\n",
       "      <td>CASH_OUT</td>\n",
       "      <td>254947.37</td>\n",
       "      <td>C1850623085</td>\n",
       "      <td>254947.37</td>\n",
       "      <td>0.00</td>\n",
       "      <td>C1632237950</td>\n",
       "      <td>0.00</td>\n",
       "      <td>254947.37</td>\n",
       "      <td>1</td>\n",
       "      <td>0</td>\n",
       "    </tr>\n",
       "    <tr>\n",
       "      <th>157</th>\n",
       "      <td>TRANSFER</td>\n",
       "      <td>431356.55</td>\n",
       "      <td>C1839723035</td>\n",
       "      <td>431356.55</td>\n",
       "      <td>0.00</td>\n",
       "      <td>C1602753129</td>\n",
       "      <td>0.00</td>\n",
       "      <td>0.00</td>\n",
       "      <td>1</td>\n",
       "      <td>0</td>\n",
       "    </tr>\n",
       "    <tr>\n",
       "      <th>741</th>\n",
       "      <td>CASH_OUT</td>\n",
       "      <td>114149.44</td>\n",
       "      <td>C1235786818</td>\n",
       "      <td>114149.44</td>\n",
       "      <td>0.00</td>\n",
       "      <td>C1738374799</td>\n",
       "      <td>0.00</td>\n",
       "      <td>114149.44</td>\n",
       "      <td>1</td>\n",
       "      <td>0</td>\n",
       "    </tr>\n",
       "    <tr>\n",
       "      <th>324</th>\n",
       "      <td>TRANSFER</td>\n",
       "      <td>362837.15</td>\n",
       "      <td>C691233312</td>\n",
       "      <td>362837.15</td>\n",
       "      <td>0.00</td>\n",
       "      <td>C834545584</td>\n",
       "      <td>0.00</td>\n",
       "      <td>0.00</td>\n",
       "      <td>1</td>\n",
       "      <td>0</td>\n",
       "    </tr>\n",
       "    <tr>\n",
       "      <th>248</th>\n",
       "      <td>CASH_OUT</td>\n",
       "      <td>65761.13</td>\n",
       "      <td>C845507735</td>\n",
       "      <td>65761.13</td>\n",
       "      <td>0.00</td>\n",
       "      <td>C1288737458</td>\n",
       "      <td>197135.39</td>\n",
       "      <td>262896.52</td>\n",
       "      <td>1</td>\n",
       "      <td>0</td>\n",
       "    </tr>\n",
       "    <tr>\n",
       "      <th>504</th>\n",
       "      <td>CASH_OUT</td>\n",
       "      <td>3018810.85</td>\n",
       "      <td>C1000484178</td>\n",
       "      <td>3018810.85</td>\n",
       "      <td>0.00</td>\n",
       "      <td>C895750711</td>\n",
       "      <td>65126.98</td>\n",
       "      <td>3083937.83</td>\n",
       "      <td>1</td>\n",
       "      <td>0</td>\n",
       "    </tr>\n",
       "    <tr>\n",
       "      <th>41</th>\n",
       "      <td>CASH_OUT</td>\n",
       "      <td>581889.94</td>\n",
       "      <td>C541992132</td>\n",
       "      <td>581889.94</td>\n",
       "      <td>0.00</td>\n",
       "      <td>C715094437</td>\n",
       "      <td>359585.03</td>\n",
       "      <td>941474.97</td>\n",
       "      <td>1</td>\n",
       "      <td>0</td>\n",
       "    </tr>\n",
       "    <tr>\n",
       "      <th>359</th>\n",
       "      <td>CASH_OUT</td>\n",
       "      <td>2056779.24</td>\n",
       "      <td>C374971374</td>\n",
       "      <td>2056779.24</td>\n",
       "      <td>0.00</td>\n",
       "      <td>C738912638</td>\n",
       "      <td>191822.43</td>\n",
       "      <td>2248601.67</td>\n",
       "      <td>1</td>\n",
       "      <td>0</td>\n",
       "    </tr>\n",
       "    <tr>\n",
       "      <th>420</th>\n",
       "      <td>CASH_OUT</td>\n",
       "      <td>430722.59</td>\n",
       "      <td>C1979801086</td>\n",
       "      <td>430722.59</td>\n",
       "      <td>0.00</td>\n",
       "      <td>C207357507</td>\n",
       "      <td>1630593.27</td>\n",
       "      <td>2061315.87</td>\n",
       "      <td>1</td>\n",
       "      <td>0</td>\n",
       "    </tr>\n",
       "    <tr>\n",
       "      <th>66</th>\n",
       "      <td>CASH_OUT</td>\n",
       "      <td>2096634.43</td>\n",
       "      <td>C65342125</td>\n",
       "      <td>2096634.43</td>\n",
       "      <td>0.00</td>\n",
       "      <td>C282355647</td>\n",
       "      <td>183429.98</td>\n",
       "      <td>2280064.41</td>\n",
       "      <td>1</td>\n",
       "      <td>0</td>\n",
       "    </tr>\n",
       "    <tr>\n",
       "      <th>249</th>\n",
       "      <td>CASH_OUT</td>\n",
       "      <td>271229.80</td>\n",
       "      <td>C1621078729</td>\n",
       "      <td>271229.80</td>\n",
       "      <td>0.00</td>\n",
       "      <td>C313871490</td>\n",
       "      <td>566471.82</td>\n",
       "      <td>837701.62</td>\n",
       "      <td>1</td>\n",
       "      <td>0</td>\n",
       "    </tr>\n",
       "    <tr>\n",
       "      <th>9</th>\n",
       "      <td>CASH_OUT</td>\n",
       "      <td>244068.01</td>\n",
       "      <td>C507466068</td>\n",
       "      <td>244068.01</td>\n",
       "      <td>0.00</td>\n",
       "      <td>C706331499</td>\n",
       "      <td>0.00</td>\n",
       "      <td>338538.16</td>\n",
       "      <td>1</td>\n",
       "      <td>0</td>\n",
       "    </tr>\n",
       "    <tr>\n",
       "      <th>685</th>\n",
       "      <td>TRANSFER</td>\n",
       "      <td>10000000.00</td>\n",
       "      <td>C1131684691</td>\n",
       "      <td>14886423.05</td>\n",
       "      <td>4886423.05</td>\n",
       "      <td>C1143448210</td>\n",
       "      <td>0.00</td>\n",
       "      <td>0.00</td>\n",
       "      <td>1</td>\n",
       "      <td>0</td>\n",
       "    </tr>\n",
       "    <tr>\n",
       "      <th>302</th>\n",
       "      <td>TRANSFER</td>\n",
       "      <td>633384.46</td>\n",
       "      <td>C1088367372</td>\n",
       "      <td>633384.46</td>\n",
       "      <td>0.00</td>\n",
       "      <td>C299996818</td>\n",
       "      <td>0.00</td>\n",
       "      <td>0.00</td>\n",
       "      <td>1</td>\n",
       "      <td>0</td>\n",
       "    </tr>\n",
       "    <tr>\n",
       "      <th>267</th>\n",
       "      <td>TRANSFER</td>\n",
       "      <td>37669.14</td>\n",
       "      <td>C894928448</td>\n",
       "      <td>37669.14</td>\n",
       "      <td>0.00</td>\n",
       "      <td>C759753598</td>\n",
       "      <td>0.00</td>\n",
       "      <td>0.00</td>\n",
       "      <td>1</td>\n",
       "      <td>0</td>\n",
       "    </tr>\n",
       "    <tr>\n",
       "      <th>363</th>\n",
       "      <td>CASH_OUT</td>\n",
       "      <td>56231.05</td>\n",
       "      <td>C615216082</td>\n",
       "      <td>56231.05</td>\n",
       "      <td>0.00</td>\n",
       "      <td>C513190251</td>\n",
       "      <td>0.00</td>\n",
       "      <td>56231.05</td>\n",
       "      <td>1</td>\n",
       "      <td>0</td>\n",
       "    </tr>\n",
       "    <tr>\n",
       "      <th>101</th>\n",
       "      <td>TRANSFER</td>\n",
       "      <td>2222544.00</td>\n",
       "      <td>C1529282032</td>\n",
       "      <td>2222544.00</td>\n",
       "      <td>0.00</td>\n",
       "      <td>C72798591</td>\n",
       "      <td>0.00</td>\n",
       "      <td>0.00</td>\n",
       "      <td>1</td>\n",
       "      <td>0</td>\n",
       "    </tr>\n",
       "    <tr>\n",
       "      <th>608</th>\n",
       "      <td>CASH_OUT</td>\n",
       "      <td>388171.95</td>\n",
       "      <td>C1228945957</td>\n",
       "      <td>388171.95</td>\n",
       "      <td>0.00</td>\n",
       "      <td>C1532344738</td>\n",
       "      <td>0.00</td>\n",
       "      <td>388171.95</td>\n",
       "      <td>1</td>\n",
       "      <td>0</td>\n",
       "    </tr>\n",
       "    <tr>\n",
       "      <th>606</th>\n",
       "      <td>TRANSFER</td>\n",
       "      <td>6575903.12</td>\n",
       "      <td>C2128461532</td>\n",
       "      <td>6575903.12</td>\n",
       "      <td>0.00</td>\n",
       "      <td>C792804461</td>\n",
       "      <td>0.00</td>\n",
       "      <td>0.00</td>\n",
       "      <td>1</td>\n",
       "      <td>0</td>\n",
       "    </tr>\n",
       "    <tr>\n",
       "      <th>161</th>\n",
       "      <td>CASH_OUT</td>\n",
       "      <td>144876.40</td>\n",
       "      <td>C980121091</td>\n",
       "      <td>144876.40</td>\n",
       "      <td>0.00</td>\n",
       "      <td>C2113246492</td>\n",
       "      <td>170443.27</td>\n",
       "      <td>315319.66</td>\n",
       "      <td>1</td>\n",
       "      <td>0</td>\n",
       "    </tr>\n",
       "    <tr>\n",
       "      <th>80</th>\n",
       "      <td>TRANSFER</td>\n",
       "      <td>244814.12</td>\n",
       "      <td>C2138181348</td>\n",
       "      <td>244814.12</td>\n",
       "      <td>0.00</td>\n",
       "      <td>C1608735206</td>\n",
       "      <td>0.00</td>\n",
       "      <td>0.00</td>\n",
       "      <td>1</td>\n",
       "      <td>0</td>\n",
       "    </tr>\n",
       "    <tr>\n",
       "      <th>248</th>\n",
       "      <td>TRANSFER</td>\n",
       "      <td>26776.98</td>\n",
       "      <td>C1235100433</td>\n",
       "      <td>26776.98</td>\n",
       "      <td>0.00</td>\n",
       "      <td>C224481932</td>\n",
       "      <td>0.00</td>\n",
       "      <td>0.00</td>\n",
       "      <td>1</td>\n",
       "      <td>0</td>\n",
       "    </tr>\n",
       "    <tr>\n",
       "      <th>503</th>\n",
       "      <td>CASH_OUT</td>\n",
       "      <td>251683.05</td>\n",
       "      <td>C1957817562</td>\n",
       "      <td>251683.05</td>\n",
       "      <td>0.00</td>\n",
       "      <td>C1713552362</td>\n",
       "      <td>0.00</td>\n",
       "      <td>251683.05</td>\n",
       "      <td>1</td>\n",
       "      <td>0</td>\n",
       "    </tr>\n",
       "    <tr>\n",
       "      <th>725</th>\n",
       "      <td>CASH_OUT</td>\n",
       "      <td>873322.61</td>\n",
       "      <td>C2077011049</td>\n",
       "      <td>873322.61</td>\n",
       "      <td>0.00</td>\n",
       "      <td>C1352808930</td>\n",
       "      <td>258993.92</td>\n",
       "      <td>1132316.53</td>\n",
       "      <td>1</td>\n",
       "      <td>0</td>\n",
       "    </tr>\n",
       "    <tr>\n",
       "      <th>570</th>\n",
       "      <td>CASH_OUT</td>\n",
       "      <td>3712.11</td>\n",
       "      <td>C437016354</td>\n",
       "      <td>3712.11</td>\n",
       "      <td>0.00</td>\n",
       "      <td>C1109457703</td>\n",
       "      <td>185441.34</td>\n",
       "      <td>189153.45</td>\n",
       "      <td>1</td>\n",
       "      <td>0</td>\n",
       "    </tr>\n",
       "    <tr>\n",
       "      <th>447</th>\n",
       "      <td>CASH_OUT</td>\n",
       "      <td>219178.49</td>\n",
       "      <td>C1200170938</td>\n",
       "      <td>219178.49</td>\n",
       "      <td>0.00</td>\n",
       "      <td>C1762108679</td>\n",
       "      <td>0.00</td>\n",
       "      <td>219178.49</td>\n",
       "      <td>1</td>\n",
       "      <td>0</td>\n",
       "    </tr>\n",
       "    <tr>\n",
       "      <th>564</th>\n",
       "      <td>TRANSFER</td>\n",
       "      <td>2472250.47</td>\n",
       "      <td>C577087580</td>\n",
       "      <td>2472250.47</td>\n",
       "      <td>0.00</td>\n",
       "      <td>C660528098</td>\n",
       "      <td>0.00</td>\n",
       "      <td>0.00</td>\n",
       "      <td>1</td>\n",
       "      <td>0</td>\n",
       "    </tr>\n",
       "    <tr>\n",
       "      <th>260</th>\n",
       "      <td>CASH_OUT</td>\n",
       "      <td>8332002.94</td>\n",
       "      <td>C17870584</td>\n",
       "      <td>8332002.94</td>\n",
       "      <td>0.00</td>\n",
       "      <td>C705444596</td>\n",
       "      <td>208741.01</td>\n",
       "      <td>8540743.95</td>\n",
       "      <td>1</td>\n",
       "      <td>0</td>\n",
       "    </tr>\n",
       "    <tr>\n",
       "      <th>203</th>\n",
       "      <td>TRANSFER</td>\n",
       "      <td>48299.77</td>\n",
       "      <td>C481315574</td>\n",
       "      <td>48299.77</td>\n",
       "      <td>0.00</td>\n",
       "      <td>C1346352001</td>\n",
       "      <td>0.00</td>\n",
       "      <td>0.00</td>\n",
       "      <td>1</td>\n",
       "      <td>0</td>\n",
       "    </tr>\n",
       "  </tbody>\n",
       "</table>\n",
       "<p>1223 rows × 10 columns</p>\n",
       "</div>"
      ],
      "text/plain": [
       "          type       amount     nameOrig  oldbalanceOrg  newbalanceOrig  \\\n",
       "step                                                                      \n",
       "709   TRANSFER    242296.17   C535302480      242296.17            0.00   \n",
       "534   TRANSFER    209340.53   C447114205      209340.53            0.00   \n",
       "36    CASH_OUT     32382.96  C1507237385       32382.96            0.00   \n",
       "115   TRANSFER    530377.28  C1741821297      530377.28            0.00   \n",
       "278   TRANSFER    240580.40   C338881900      240580.40            0.00   \n",
       "724   TRANSFER   1379501.18  C1083455984     1379501.18            0.00   \n",
       "569   TRANSFER     51416.07  C1275321415       51416.07            0.00   \n",
       "450   TRANSFER    422261.63   C105750198      422261.63            0.00   \n",
       "680   TRANSFER   1685692.11  C1039970092     1685692.11            0.00   \n",
       "25    TRANSFER    802382.45   C127098115      802382.45            0.00   \n",
       "667   TRANSFER    429257.45   C684872435      429257.45            0.00   \n",
       "355   CASH_OUT     42483.97  C1595793252       42483.97            0.00   \n",
       "568   CASH_OUT      2747.85   C598860106        2747.85            0.00   \n",
       "521   TRANSFER     48734.24  C1051865605       48734.24            0.00   \n",
       "462   TRANSFER   4342582.37  C1976332867     4342582.37            0.00   \n",
       "600   TRANSFER    540154.62   C415858765      540154.62            0.00   \n",
       "156   CASH_OUT    619836.33  C1847194687      619836.33            0.00   \n",
       "608   TRANSFER    388171.95  C1413288238      388171.95            0.00   \n",
       "410   TRANSFER    206985.26  C1041263133      206985.26            0.00   \n",
       "92    CASH_OUT   1461930.03  C1928781788     1461930.03            0.00   \n",
       "66    CASH_OUT   3444943.59   C127639062     3444943.59            0.00   \n",
       "296   TRANSFER    261874.86   C660614375      261874.86            0.00   \n",
       "287   CASH_OUT    223730.40  C2056953445      223730.40            0.00   \n",
       "262   TRANSFER    639680.32  C1449539752      639680.32            0.00   \n",
       "124   TRANSFER   1399637.19  C2129900930     1399637.19            0.00   \n",
       "177   CASH_OUT    239556.06    C45982560      239556.06            0.00   \n",
       "1     TRANSFER      2806.00  C1420196421        2806.00            0.00   \n",
       "464   TRANSFER   1219062.64   C357942750     1219062.64            0.00   \n",
       "495   CASH_OUT     58737.53   C517543393       58737.53            0.00   \n",
       "198   TRANSFER   2153055.36   C156186481     2153055.36            0.00   \n",
       "...        ...          ...          ...            ...             ...   \n",
       "485   CASH_OUT    471906.60   C437383157      471906.60            0.00   \n",
       "565   CASH_OUT    254947.37  C1850623085      254947.37            0.00   \n",
       "157   TRANSFER    431356.55  C1839723035      431356.55            0.00   \n",
       "741   CASH_OUT    114149.44  C1235786818      114149.44            0.00   \n",
       "324   TRANSFER    362837.15   C691233312      362837.15            0.00   \n",
       "248   CASH_OUT     65761.13   C845507735       65761.13            0.00   \n",
       "504   CASH_OUT   3018810.85  C1000484178     3018810.85            0.00   \n",
       "41    CASH_OUT    581889.94   C541992132      581889.94            0.00   \n",
       "359   CASH_OUT   2056779.24   C374971374     2056779.24            0.00   \n",
       "420   CASH_OUT    430722.59  C1979801086      430722.59            0.00   \n",
       "66    CASH_OUT   2096634.43    C65342125     2096634.43            0.00   \n",
       "249   CASH_OUT    271229.80  C1621078729      271229.80            0.00   \n",
       "9     CASH_OUT    244068.01   C507466068      244068.01            0.00   \n",
       "685   TRANSFER  10000000.00  C1131684691    14886423.05      4886423.05   \n",
       "302   TRANSFER    633384.46  C1088367372      633384.46            0.00   \n",
       "267   TRANSFER     37669.14   C894928448       37669.14            0.00   \n",
       "363   CASH_OUT     56231.05   C615216082       56231.05            0.00   \n",
       "101   TRANSFER   2222544.00  C1529282032     2222544.00            0.00   \n",
       "608   CASH_OUT    388171.95  C1228945957      388171.95            0.00   \n",
       "606   TRANSFER   6575903.12  C2128461532     6575903.12            0.00   \n",
       "161   CASH_OUT    144876.40   C980121091      144876.40            0.00   \n",
       "80    TRANSFER    244814.12  C2138181348      244814.12            0.00   \n",
       "248   TRANSFER     26776.98  C1235100433       26776.98            0.00   \n",
       "503   CASH_OUT    251683.05  C1957817562      251683.05            0.00   \n",
       "725   CASH_OUT    873322.61  C2077011049      873322.61            0.00   \n",
       "570   CASH_OUT      3712.11   C437016354        3712.11            0.00   \n",
       "447   CASH_OUT    219178.49  C1200170938      219178.49            0.00   \n",
       "564   TRANSFER   2472250.47   C577087580     2472250.47            0.00   \n",
       "260   CASH_OUT   8332002.94    C17870584     8332002.94            0.00   \n",
       "203   TRANSFER     48299.77   C481315574       48299.77            0.00   \n",
       "\n",
       "         nameDest  oldbalanceDest  newbalanceDest  isFraud  isFlaggedFraud  \n",
       "step                                                                        \n",
       "709   C1442778560            0.00            0.00        1               0  \n",
       "534   C1658435419            0.00            0.00        1               0  \n",
       "36      C53062849            0.00        32382.96        1               0  \n",
       "115    C182731485            0.00            0.00        1               0  \n",
       "278    C738144053            0.00            0.00        1               0  \n",
       "724    C662399585            0.00            0.00        1               0  \n",
       "569   C1417015196            0.00            0.00        1               0  \n",
       "450   C1172379830            0.00            0.00        1               0  \n",
       "680    C476797859            0.00            0.00        1               0  \n",
       "25    C1570699013            0.00            0.00        1               0  \n",
       "667    C227709254            0.00            0.00        1               0  \n",
       "355    C636454309        51495.75        93979.72        1               0  \n",
       "568   C2038068199      1103433.35      1106181.20        1               0  \n",
       "521   C2005579238            0.00            0.00        1               0  \n",
       "462   C1903233179            0.00            0.00        1               0  \n",
       "600   C1485040019            0.00            0.00        1               0  \n",
       "156   C1466605034       712633.49      1332469.82        1               0  \n",
       "608   C1384608658            0.00            0.00        1               0  \n",
       "410      C6898692            0.00            0.00        1               0  \n",
       "92    C1636281428      3762496.73      5224426.76        1               0  \n",
       "66    C1426710143       217174.65      3662118.24        1               0  \n",
       "296    C542723764            0.00            0.00        1               0  \n",
       "287    C685901539      3375498.70      3599229.10        1               0  \n",
       "262   C1011349802            0.00            0.00        1               0  \n",
       "124   C1804261014            0.00            0.00        1               0  \n",
       "177   C1554818720      1726925.54      1966481.60        1               0  \n",
       "1      C972765878            0.00            0.00        1               0  \n",
       "464   C1229695480            0.00            0.00        1               0  \n",
       "495   C1684807831       887496.11       946233.64        1               0  \n",
       "198   C1456746018            0.00            0.00        1               0  \n",
       "...           ...             ...             ...      ...             ...  \n",
       "485    C943161690         5930.71       477837.30        1               0  \n",
       "565   C1632237950            0.00       254947.37        1               0  \n",
       "157   C1602753129            0.00            0.00        1               0  \n",
       "741   C1738374799            0.00       114149.44        1               0  \n",
       "324    C834545584            0.00            0.00        1               0  \n",
       "248   C1288737458       197135.39       262896.52        1               0  \n",
       "504    C895750711        65126.98      3083937.83        1               0  \n",
       "41     C715094437       359585.03       941474.97        1               0  \n",
       "359    C738912638       191822.43      2248601.67        1               0  \n",
       "420    C207357507      1630593.27      2061315.87        1               0  \n",
       "66     C282355647       183429.98      2280064.41        1               0  \n",
       "249    C313871490       566471.82       837701.62        1               0  \n",
       "9      C706331499            0.00       338538.16        1               0  \n",
       "685   C1143448210            0.00            0.00        1               0  \n",
       "302    C299996818            0.00            0.00        1               0  \n",
       "267    C759753598            0.00            0.00        1               0  \n",
       "363    C513190251            0.00        56231.05        1               0  \n",
       "101     C72798591            0.00            0.00        1               0  \n",
       "608   C1532344738            0.00       388171.95        1               0  \n",
       "606    C792804461            0.00            0.00        1               0  \n",
       "161   C2113246492       170443.27       315319.66        1               0  \n",
       "80    C1608735206            0.00            0.00        1               0  \n",
       "248    C224481932            0.00            0.00        1               0  \n",
       "503   C1713552362            0.00       251683.05        1               0  \n",
       "725   C1352808930       258993.92      1132316.53        1               0  \n",
       "570   C1109457703       185441.34       189153.45        1               0  \n",
       "447   C1762108679            0.00       219178.49        1               0  \n",
       "564    C660528098            0.00            0.00        1               0  \n",
       "260    C705444596       208741.01      8540743.95        1               0  \n",
       "203   C1346352001            0.00            0.00        1               0  \n",
       "\n",
       "[1223 rows x 10 columns]"
      ]
     },
     "execution_count": 3,
     "metadata": {},
     "output_type": "execute_result"
    }
   ],
   "source": [
    "df.loc[df.isFraud == 1]\n"
   ]
  },
  {
   "cell_type": "code",
   "execution_count": 4,
   "metadata": {
    "colab": {},
    "colab_type": "code",
    "id": "sTqF2O-pNuJY"
   },
   "outputs": [],
   "source": [
    "df['IS_TRANSFER'] = 0\n",
    "\n",
    "df['IS_CASH_OUT'] = 0"
   ]
  },
  {
   "cell_type": "code",
   "execution_count": 5,
   "metadata": {
    "colab": {},
    "colab_type": "code",
    "id": "ypXbFFiBTBhV"
   },
   "outputs": [],
   "source": [
    "df.loc[df['type']=='TRANSFER', 'IS_TRANSFER'] =1"
   ]
  },
  {
   "cell_type": "code",
   "execution_count": 6,
   "metadata": {
    "colab": {},
    "colab_type": "code",
    "id": "v673wyN8TZPX"
   },
   "outputs": [],
   "source": [
    "df.loc[df['type']=='CASH_OUT', 'IS_CASH_OUT'] =1"
   ]
  },
  {
   "cell_type": "code",
   "execution_count": 7,
   "metadata": {
    "colab": {
     "base_uri": "https://localhost:8080/",
     "height": 312
    },
    "colab_type": "code",
    "executionInfo": {
     "elapsed": 985,
     "status": "ok",
     "timestamp": 1565544051601,
     "user": {
      "displayName": "Girish Kale",
      "photoUrl": "https://lh6.googleusercontent.com/-4N2IkDyaeEc/AAAAAAAAAAI/AAAAAAAASWE/To_sRqtOG5E/s64/photo.jpg",
      "userId": "14754894672992950083"
     },
     "user_tz": 240
    },
    "id": "E1aspXjaj2yW",
    "outputId": "59dbf07d-8fb9-4450-8d48-d0032445c76b"
   },
   "outputs": [
    {
     "name": "stdout",
     "output_type": "stream",
     "text": [
      "<class 'pandas.core.frame.DataFrame'>\n",
      "Int64Index: 950000 entries, 138 to 542\n",
      "Data columns (total 12 columns):\n",
      "type              950000 non-null object\n",
      "amount            950000 non-null float64\n",
      "nameOrig          950000 non-null object\n",
      "oldbalanceOrg     950000 non-null float64\n",
      "newbalanceOrig    950000 non-null float64\n",
      "nameDest          950000 non-null object\n",
      "oldbalanceDest    950000 non-null float64\n",
      "newbalanceDest    950000 non-null float64\n",
      "isFraud           950000 non-null int64\n",
      "isFlaggedFraud    950000 non-null int64\n",
      "IS_TRANSFER       950000 non-null int64\n",
      "IS_CASH_OUT       950000 non-null int64\n",
      "dtypes: float64(5), int64(4), object(3)\n",
      "memory usage: 94.2+ MB\n"
     ]
    }
   ],
   "source": [
    "df.info()"
   ]
  },
  {
   "cell_type": "code",
   "execution_count": 8,
   "metadata": {
    "colab": {},
    "colab_type": "code",
    "id": "b6vxVI4uhKim"
   },
   "outputs": [],
   "source": [
    "df_back_up = df"
   ]
  },
  {
   "cell_type": "code",
   "execution_count": 9,
   "metadata": {
    "colab": {
     "base_uri": "https://localhost:8080/",
     "height": 35
    },
    "colab_type": "code",
    "executionInfo": {
     "elapsed": 256,
     "status": "ok",
     "timestamp": 1565544060985,
     "user": {
      "displayName": "Girish Kale",
      "photoUrl": "https://lh6.googleusercontent.com/-4N2IkDyaeEc/AAAAAAAAAAI/AAAAAAAASWE/To_sRqtOG5E/s64/photo.jpg",
      "userId": "14754894672992950083"
     },
     "user_tz": 240
    },
    "id": "7gdKAFqezoqh",
    "outputId": "6359f771-65b3-4a00-96f0-545631ba8f03"
   },
   "outputs": [
    {
     "data": {
      "text/plain": [
       "(1223, 12)"
      ]
     },
     "execution_count": 9,
     "metadata": {},
     "output_type": "execute_result"
    }
   ],
   "source": [
    "df[df['isFraud']==1].shape"
   ]
  },
  {
   "cell_type": "code",
   "execution_count": 10,
   "metadata": {
    "colab": {},
    "colab_type": "code",
    "id": "KrCyC4rRlWgK"
   },
   "outputs": [],
   "source": [
    "y = df['isFraud'].values"
   ]
  },
  {
   "cell_type": "code",
   "execution_count": 11,
   "metadata": {
    "colab": {
     "base_uri": "https://localhost:8080/",
     "height": 35
    },
    "colab_type": "code",
    "executionInfo": {
     "elapsed": 251,
     "status": "ok",
     "timestamp": 1565544064707,
     "user": {
      "displayName": "Girish Kale",
      "photoUrl": "https://lh6.googleusercontent.com/-4N2IkDyaeEc/AAAAAAAAAAI/AAAAAAAASWE/To_sRqtOG5E/s64/photo.jpg",
      "userId": "14754894672992950083"
     },
     "user_tz": 240
    },
    "id": "vvpWKTNS1NlO",
    "outputId": "08f60c6f-e7ec-4a8d-c4ed-2e65e613cb57"
   },
   "outputs": [
    {
     "data": {
      "text/plain": [
       "(950000,)"
      ]
     },
     "execution_count": 11,
     "metadata": {},
     "output_type": "execute_result"
    }
   ],
   "source": [
    "y.shape"
   ]
  },
  {
   "cell_type": "code",
   "execution_count": 12,
   "metadata": {
    "colab": {
     "base_uri": "https://localhost:8080/",
     "height": 35
    },
    "colab_type": "code",
    "executionInfo": {
     "elapsed": 206,
     "status": "ok",
     "timestamp": 1565544066441,
     "user": {
      "displayName": "Girish Kale",
      "photoUrl": "https://lh6.googleusercontent.com/-4N2IkDyaeEc/AAAAAAAAAAI/AAAAAAAASWE/To_sRqtOG5E/s64/photo.jpg",
      "userId": "14754894672992950083"
     },
     "user_tz": 240
    },
    "id": "Mm7a6Qq-zorF",
    "outputId": "8008b030-5cca-4109-dc61-a61027af4ba2"
   },
   "outputs": [
    {
     "data": {
      "text/plain": [
       "948777"
      ]
     },
     "execution_count": 12,
     "metadata": {},
     "output_type": "execute_result"
    }
   ],
   "source": [
    "num_zeros = (y == 0).sum()\n",
    "num_ones = (y == 1).sum()\n",
    "num_zeros\n"
   ]
  },
  {
   "cell_type": "code",
   "execution_count": 13,
   "metadata": {
    "colab": {
     "base_uri": "https://localhost:8080/",
     "height": 35
    },
    "colab_type": "code",
    "executionInfo": {
     "elapsed": 209,
     "status": "ok",
     "timestamp": 1565544071151,
     "user": {
      "displayName": "Girish Kale",
      "photoUrl": "https://lh6.googleusercontent.com/-4N2IkDyaeEc/AAAAAAAAAAI/AAAAAAAASWE/To_sRqtOG5E/s64/photo.jpg",
      "userId": "14754894672992950083"
     },
     "user_tz": 240
    },
    "id": "pv7tZwvWr2Im",
    "outputId": "25d8f892-ffcc-447d-ef22-e162bb9bf388"
   },
   "outputs": [
    {
     "data": {
      "text/plain": [
       "1223"
      ]
     },
     "execution_count": 13,
     "metadata": {},
     "output_type": "execute_result"
    }
   ],
   "source": [
    "num_ones"
   ]
  },
  {
   "cell_type": "code",
   "execution_count": 14,
   "metadata": {
    "colab": {},
    "colab_type": "code",
    "id": "dEmY7MuyB7KO"
   },
   "outputs": [],
   "source": [
    "from sklearn import preprocessing\n",
    "\n",
    "min_max_scaler1 = preprocessing.MinMaxScaler()\n",
    "np_scaled1 = min_max_scaler1.fit_transform(df[['amount']])\n",
    "amount_df_normalized = pd.DataFrame(np_scaled1)\n",
    "amount_df_normalized.values\n",
    "\n",
    "min_max_scaler2 = preprocessing.MinMaxScaler()\n",
    "np_scaled2 = min_max_scaler2.fit_transform(df[['oldbalanceOrg']])\n",
    "oldbalanceOrg_df_normalized = pd.DataFrame(np_scaled2)\n",
    "oldbalanceOrg_df_normalized.values\n",
    "\n",
    "min_max_scaler3 = preprocessing.MinMaxScaler()\n",
    "np_scaled3 = min_max_scaler3.fit_transform(df[['newbalanceOrig']])\n",
    "newbalanceOrig_df_normalized = pd.DataFrame(np_scaled3)\n",
    "newbalanceOrig_df_normalized.values\n",
    "\n",
    "min_max_scaler4 = preprocessing.MinMaxScaler()\n",
    "np_scaled4 = min_max_scaler4.fit_transform(df[['oldbalanceDest']])\n",
    "oldbalanceDest_df_normalized = pd.DataFrame(np_scaled4)\n",
    "oldbalanceDest_df_normalized.values\n",
    "\n",
    "min_max_scaler5 = preprocessing.MinMaxScaler()\n",
    "np_scaled5 = min_max_scaler5.fit_transform(df[['newbalanceDest']])\n",
    "newbalanceDest_df_normalized = pd.DataFrame(np_scaled5)\n",
    "newbalanceDest_df_normalized.values\n",
    "X_df = df.drop(['nameOrig', 'nameDest','isFraud','type'], axis=1)"
   ]
  },
  {
   "cell_type": "code",
   "execution_count": 15,
   "metadata": {
    "colab": {},
    "colab_type": "code",
    "id": "1ZGB4qfJmCpC"
   },
   "outputs": [],
   "source": [
    "\n",
    "\n",
    "\n",
    "X_df['amount']= amount_df_normalized.values\n",
    "\n",
    "X_df['oldbalanceOrg'] = oldbalanceOrg_df_normalized.values\n",
    "\n",
    "X_df['newbalanceOrig'] = newbalanceOrig_df_normalized.values\n",
    "\n",
    "X_df['oldbalanceDest'] = oldbalanceDest_df_normalized.values\n",
    "\n",
    "X_df['newbalanceDest'] = newbalanceDest_df_normalized.values"
   ]
  },
  {
   "cell_type": "code",
   "execution_count": 16,
   "metadata": {
    "colab": {
     "base_uri": "https://localhost:8080/",
     "height": 243
    },
    "colab_type": "code",
    "executionInfo": {
     "elapsed": 313,
     "status": "ok",
     "timestamp": 1565544080328,
     "user": {
      "displayName": "Girish Kale",
      "photoUrl": "https://lh6.googleusercontent.com/-4N2IkDyaeEc/AAAAAAAAAAI/AAAAAAAASWE/To_sRqtOG5E/s64/photo.jpg",
      "userId": "14754894672992950083"
     },
     "user_tz": 240
    },
    "id": "sIUnPAVEnZkk",
    "outputId": "6bea28f8-1458-4983-d804-34d916b75151"
   },
   "outputs": [
    {
     "name": "stdout",
     "output_type": "stream",
     "text": [
      "<class 'pandas.core.frame.DataFrame'>\n",
      "Int64Index: 950000 entries, 138 to 542\n",
      "Data columns (total 8 columns):\n",
      "amount            950000 non-null float64\n",
      "oldbalanceOrg     950000 non-null float64\n",
      "newbalanceOrig    950000 non-null float64\n",
      "oldbalanceDest    950000 non-null float64\n",
      "newbalanceDest    950000 non-null float64\n",
      "isFlaggedFraud    950000 non-null int64\n",
      "IS_TRANSFER       950000 non-null int64\n",
      "IS_CASH_OUT       950000 non-null int64\n",
      "dtypes: float64(5), int64(3)\n",
      "memory usage: 65.2 MB\n"
     ]
    }
   ],
   "source": [
    "X_df.info()"
   ]
  },
  {
   "cell_type": "code",
   "execution_count": 17,
   "metadata": {
    "colab": {},
    "colab_type": "code",
    "id": "bQZFHnOF-F6q"
   },
   "outputs": [],
   "source": [
    "X = X_df.to_numpy()"
   ]
  },
  {
   "cell_type": "code",
   "execution_count": 18,
   "metadata": {},
   "outputs": [
    {
     "data": {
      "text/plain": [
       "step\n",
       "138    0.003628\n",
       "33     0.000239\n",
       "372    0.010331\n",
       "329    0.013494\n",
       "382    0.000076\n",
       "260    0.002638\n",
       "255    0.000220\n",
       "206    0.003911\n",
       "180    0.005014\n",
       "157    0.004802\n",
       "14     0.000193\n",
       "370    0.000103\n",
       "214    0.001882\n",
       "40     0.000242\n",
       "276    0.000178\n",
       "353    0.000466\n",
       "329    0.001603\n",
       "163    0.000419\n",
       "259    0.000061\n",
       "185    0.001063\n",
       "300    0.001176\n",
       "402    0.004510\n",
       "183    0.000094\n",
       "306    0.003806\n",
       "17     0.000136\n",
       "329    0.000180\n",
       "307    0.000071\n",
       "208    0.000604\n",
       "403    0.000760\n",
       "347    0.000018\n",
       "         ...   \n",
       "134    0.002206\n",
       "225    0.000050\n",
       "226    0.000084\n",
       "283    0.000255\n",
       "210    0.000532\n",
       "305    0.001335\n",
       "375    0.006341\n",
       "13     0.002717\n",
       "397    0.000003\n",
       "156    0.003521\n",
       "187    0.000104\n",
       "277    0.000104\n",
       "19     0.000697\n",
       "276    0.002080\n",
       "133    0.002073\n",
       "164    0.001352\n",
       "396    0.003386\n",
       "347    0.001380\n",
       "321    0.003338\n",
       "281    0.010349\n",
       "346    0.000321\n",
       "331    0.005282\n",
       "307    0.002413\n",
       "15     0.003091\n",
       "278    0.002294\n",
       "399    0.000023\n",
       "201    0.000042\n",
       "17     0.000067\n",
       "186    0.000194\n",
       "542    0.000207\n",
       "Name: amount, Length: 950000, dtype: float64"
      ]
     },
     "execution_count": 18,
     "metadata": {},
     "output_type": "execute_result"
    }
   ],
   "source": [
    "X_df['amount']"
   ]
  },
  {
   "cell_type": "code",
   "execution_count": 19,
   "metadata": {},
   "outputs": [
    {
     "name": "stderr",
     "output_type": "stream",
     "text": [
      "Using TensorFlow backend.\n"
     ]
    },
    {
     "name": "stdout",
     "output_type": "stream",
     "text": [
      "Original dataset shape Counter({0: 948777, 1: 1223})\n",
      "Resampled dataset shape Counter({0: 948777, 1: 948777})\n"
     ]
    }
   ],
   "source": [
    "#from collections import Counter\n",
    "#from imblearn.over_sampling import SMOTE, ADASYN\n",
    "\n",
    "#X_res, y_res = SMOTE().fit_resample(X, y)\n",
    "\n",
    "#print('Original dataset y shape %s' % Counter(y))\n",
    "#print('Resampled dataset shape y_res %s' % Counter(y_res))\n",
    "\n",
    "\n",
    "from collections import Counter\n",
    "from imblearn.over_sampling import RandomOverSampler\n",
    "print('Original dataset shape %s' % Counter(y))\n",
    "ros = RandomOverSampler(random_state=42)\n",
    "X_res, y_res = ros.fit_resample(X, y)\n",
    "print('Resampled dataset shape %s' % Counter(y_res))\n"
   ]
  },
  {
   "cell_type": "code",
   "execution_count": 20,
   "metadata": {
    "colab": {},
    "colab_type": "code",
    "id": "fbPQnhLVzUlL"
   },
   "outputs": [],
   "source": [
    "from sklearn.model_selection import train_test_split\n",
    "\n",
    "X = X_res\n",
    "y = y_res\n",
    "\n",
    "X_train, X_test, y_train, y_test = train_test_split(X,y,test_size= 0.2)"
   ]
  },
  {
   "cell_type": "code",
   "execution_count": 21,
   "metadata": {},
   "outputs": [
    {
     "data": {
      "text/plain": [
       "array([[3.17563264e-04, 0.00000000e+00, 0.00000000e+00, ...,\n",
       "        0.00000000e+00, 0.00000000e+00, 1.00000000e+00],\n",
       "       [9.13351886e-02, 1.88084567e-01, 0.00000000e+00, ...,\n",
       "        0.00000000e+00, 0.00000000e+00, 1.00000000e+00],\n",
       "       [1.41006687e-02, 2.90372002e-02, 0.00000000e+00, ...,\n",
       "        0.00000000e+00, 1.00000000e+00, 0.00000000e+00],\n",
       "       ...,\n",
       "       [1.00324606e-04, 2.06596278e-04, 0.00000000e+00, ...,\n",
       "        0.00000000e+00, 0.00000000e+00, 1.00000000e+00],\n",
       "       [8.76839883e-03, 1.80565730e-02, 0.00000000e+00, ...,\n",
       "        0.00000000e+00, 0.00000000e+00, 1.00000000e+00],\n",
       "       [1.55661275e-03, 0.00000000e+00, 0.00000000e+00, ...,\n",
       "        0.00000000e+00, 0.00000000e+00, 1.00000000e+00]])"
      ]
     },
     "execution_count": 21,
     "metadata": {},
     "output_type": "execute_result"
    }
   ],
   "source": [
    "X_train"
   ]
  },
  {
   "cell_type": "code",
   "execution_count": 22,
   "metadata": {},
   "outputs": [
    {
     "data": {
      "text/plain": [
       "array([[4.31917106e-05, 0.00000000e+00, 0.00000000e+00, ...,\n",
       "        0.00000000e+00, 0.00000000e+00, 0.00000000e+00],\n",
       "       [1.09375331e-03, 0.00000000e+00, 0.00000000e+00, ...,\n",
       "        0.00000000e+00, 0.00000000e+00, 1.00000000e+00],\n",
       "       [1.02760971e-02, 2.11613433e-02, 0.00000000e+00, ...,\n",
       "        0.00000000e+00, 0.00000000e+00, 1.00000000e+00],\n",
       "       ...,\n",
       "       [1.50226299e-02, 3.09357749e-02, 0.00000000e+00, ...,\n",
       "        0.00000000e+00, 1.00000000e+00, 0.00000000e+00],\n",
       "       [3.07874260e-03, 0.00000000e+00, 0.00000000e+00, ...,\n",
       "        0.00000000e+00, 1.00000000e+00, 0.00000000e+00],\n",
       "       [3.86122565e-05, 8.93251081e-05, 1.21123539e-05, ...,\n",
       "        0.00000000e+00, 0.00000000e+00, 0.00000000e+00]])"
      ]
     },
     "execution_count": 22,
     "metadata": {},
     "output_type": "execute_result"
    }
   ],
   "source": [
    "X_test"
   ]
  },
  {
   "cell_type": "code",
   "execution_count": 23,
   "metadata": {},
   "outputs": [
    {
     "data": {
      "text/plain": [
       "array([0, 1, 1, ..., 1, 1, 0], dtype=int64)"
      ]
     },
     "execution_count": 23,
     "metadata": {},
     "output_type": "execute_result"
    }
   ],
   "source": [
    "y_train"
   ]
  },
  {
   "cell_type": "code",
   "execution_count": 24,
   "metadata": {},
   "outputs": [
    {
     "data": {
      "text/plain": [
       "189470"
      ]
     },
     "execution_count": 24,
     "metadata": {},
     "output_type": "execute_result"
    }
   ],
   "source": [
    "num_zeros_y_train = (y_test == 0).sum()\n",
    "num_ones_y_train = (y_test == 1).sum()\n",
    "num_zeros_y_train"
   ]
  },
  {
   "cell_type": "code",
   "execution_count": 25,
   "metadata": {},
   "outputs": [
    {
     "data": {
      "text/plain": [
       "190041"
      ]
     },
     "execution_count": 25,
     "metadata": {},
     "output_type": "execute_result"
    }
   ],
   "source": [
    "num_ones_y_train"
   ]
  },
  {
   "cell_type": "code",
   "execution_count": 26,
   "metadata": {},
   "outputs": [
    {
     "data": {
      "text/plain": [
       "189470"
      ]
     },
     "execution_count": 26,
     "metadata": {},
     "output_type": "execute_result"
    }
   ],
   "source": [
    "num_zeros_y_test = (y_test == 0).sum()\n",
    "num_ones_y_test = (y_test == 1).sum()\n",
    "num_zeros_y_test"
   ]
  },
  {
   "cell_type": "code",
   "execution_count": 27,
   "metadata": {},
   "outputs": [
    {
     "data": {
      "text/plain": [
       "190041"
      ]
     },
     "execution_count": 27,
     "metadata": {},
     "output_type": "execute_result"
    }
   ],
   "source": [
    "num_ones_y_test"
   ]
  },
  {
   "cell_type": "code",
   "execution_count": 28,
   "metadata": {
    "colab": {
     "base_uri": "https://localhost:8080/",
     "height": 35
    },
    "colab_type": "code",
    "executionInfo": {
     "elapsed": 194,
     "status": "ok",
     "timestamp": 1565544166803,
     "user": {
      "displayName": "Girish Kale",
      "photoUrl": "https://lh6.googleusercontent.com/-4N2IkDyaeEc/AAAAAAAAAAI/AAAAAAAASWE/To_sRqtOG5E/s64/photo.jpg",
      "userId": "14754894672992950083"
     },
     "user_tz": 240
    },
    "id": "PRymLJ7s4TaO",
    "outputId": "a2d8a461-8219-410c-bdbe-d748f0c2401c"
   },
   "outputs": [
    {
     "name": "stdout",
     "output_type": "stream",
     "text": [
      "Unique Values :  [0 1]\n"
     ]
    }
   ],
   "source": [
    "uniqueValues_y_train = np.unique(y_train)\n",
    "uniqueValues_y_test = np.unique(y_test)\n",
    " \n",
    "print('Unique Values : ',uniqueValues_y_train)"
   ]
  },
  {
   "cell_type": "code",
   "execution_count": 29,
   "metadata": {
    "colab": {
     "base_uri": "https://localhost:8080/",
     "height": 35
    },
    "colab_type": "code",
    "executionInfo": {
     "elapsed": 244,
     "status": "ok",
     "timestamp": 1565544169541,
     "user": {
      "displayName": "Girish Kale",
      "photoUrl": "https://lh6.googleusercontent.com/-4N2IkDyaeEc/AAAAAAAAAAI/AAAAAAAASWE/To_sRqtOG5E/s64/photo.jpg",
      "userId": "14754894672992950083"
     },
     "user_tz": 240
    },
    "id": "2E8_ZoGA4edq",
    "outputId": "53944206-21d0-4274-fa98-d4f2b947c989"
   },
   "outputs": [
    {
     "name": "stdout",
     "output_type": "stream",
     "text": [
      "Unique Values :  [0 1]\n"
     ]
    }
   ],
   "source": [
    "print('Unique Values : ',uniqueValues_y_test)"
   ]
  },
  {
   "cell_type": "code",
   "execution_count": 30,
   "metadata": {
    "colab": {
     "base_uri": "https://localhost:8080/",
     "height": 35
    },
    "colab_type": "code",
    "executionInfo": {
     "elapsed": 225,
     "status": "ok",
     "timestamp": 1565544171287,
     "user": {
      "displayName": "Girish Kale",
      "photoUrl": "https://lh6.googleusercontent.com/-4N2IkDyaeEc/AAAAAAAAAAI/AAAAAAAASWE/To_sRqtOG5E/s64/photo.jpg",
      "userId": "14754894672992950083"
     },
     "user_tz": 240
    },
    "id": "2aEOdL2DxHT4",
    "outputId": "3f920598-5d77-4e17-b59f-93c7f6c4bbf9"
   },
   "outputs": [
    {
     "data": {
      "text/plain": [
       "TensorShape([Dimension(None), Dimension(8)])"
      ]
     },
     "execution_count": 30,
     "metadata": {},
     "output_type": "execute_result"
    }
   ],
   "source": [
    "from tensorflow import keras\n",
    "\n",
    "inputs = keras.Input(shape=(8,))\n",
    "inputs.shape"
   ]
  },
  {
   "cell_type": "code",
   "execution_count": 31,
   "metadata": {
    "colab": {},
    "colab_type": "code",
    "id": "-hQK2gbpwpkB"
   },
   "outputs": [
    {
     "name": "stderr",
     "output_type": "stream",
     "text": [
      "WARNING: Logging before flag parsing goes to stderr.\n",
      "W0811 16:17:37.225687 24364 deprecation.py:506] From C:\\Users\\giris\\Anaconda3\\lib\\site-packages\\tensorflow\\python\\ops\\init_ops.py:1251: calling VarianceScaling.__init__ (from tensorflow.python.ops.init_ops) with dtype is deprecated and will be removed in a future version.\n",
      "Instructions for updating:\n",
      "Call initializer instance with the dtype argument instead of passing it to the constructor\n"
     ]
    }
   ],
   "source": [
    "from tensorflow.keras import layers\n",
    "dense = layers.Dense(8, activation='relu')\n",
    "xi = dense(inputs)"
   ]
  },
  {
   "cell_type": "code",
   "execution_count": 32,
   "metadata": {
    "colab": {},
    "colab_type": "code",
    "id": "qU2l95QYxmkF"
   },
   "outputs": [],
   "source": [
    "x1 = layers.Dense(15, activation='relu')(xi)\n",
    "x2 = layers.Dense(13, activation='relu')(x1)\n",
    "x3 = layers.Dense(11, activation='relu')(x2)\n",
    "x4 = layers.Dense(7, activation='relu')(x3)\n",
    "x5 = layers.Dense(4, activation='relu')(x4)\n",
    "x6 = layers.Dense(2, activation='relu')(x5)"
   ]
  },
  {
   "cell_type": "code",
   "execution_count": 33,
   "metadata": {
    "colab": {},
    "colab_type": "code",
    "id": "oLa452FAx8s9"
   },
   "outputs": [],
   "source": [
    "outputs = layers.Dense(1, activation='softmax')(x6)"
   ]
  },
  {
   "cell_type": "code",
   "execution_count": 34,
   "metadata": {
    "colab": {},
    "colab_type": "code",
    "id": "VN-VE8MXyKkr"
   },
   "outputs": [],
   "source": [
    "model = keras.Model(inputs=inputs, outputs=outputs)"
   ]
  },
  {
   "cell_type": "code",
   "execution_count": 35,
   "metadata": {
    "colab": {
     "base_uri": "https://localhost:8080/",
     "height": 468
    },
    "colab_type": "code",
    "executionInfo": {
     "elapsed": 198,
     "status": "ok",
     "timestamp": 1565544188222,
     "user": {
      "displayName": "Girish Kale",
      "photoUrl": "https://lh6.googleusercontent.com/-4N2IkDyaeEc/AAAAAAAAAAI/AAAAAAAASWE/To_sRqtOG5E/s64/photo.jpg",
      "userId": "14754894672992950083"
     },
     "user_tz": 240
    },
    "id": "1zQnrJHqyVC1",
    "outputId": "4bc5a183-e8c9-4666-c598-1cfb16edb81b"
   },
   "outputs": [
    {
     "name": "stdout",
     "output_type": "stream",
     "text": [
      "Model: \"model\"\n",
      "_________________________________________________________________\n",
      "Layer (type)                 Output Shape              Param #   \n",
      "=================================================================\n",
      "input_1 (InputLayer)         [(None, 8)]               0         \n",
      "_________________________________________________________________\n",
      "dense (Dense)                (None, 8)                 72        \n",
      "_________________________________________________________________\n",
      "dense_1 (Dense)              (None, 15)                135       \n",
      "_________________________________________________________________\n",
      "dense_2 (Dense)              (None, 13)                208       \n",
      "_________________________________________________________________\n",
      "dense_3 (Dense)              (None, 11)                154       \n",
      "_________________________________________________________________\n",
      "dense_4 (Dense)              (None, 7)                 84        \n",
      "_________________________________________________________________\n",
      "dense_5 (Dense)              (None, 4)                 32        \n",
      "_________________________________________________________________\n",
      "dense_6 (Dense)              (None, 2)                 10        \n",
      "_________________________________________________________________\n",
      "dense_7 (Dense)              (None, 1)                 3         \n",
      "=================================================================\n",
      "Total params: 698\n",
      "Trainable params: 698\n",
      "Non-trainable params: 0\n",
      "_________________________________________________________________\n"
     ]
    }
   ],
   "source": [
    "model.summary()"
   ]
  },
  {
   "cell_type": "code",
   "execution_count": 36,
   "metadata": {
    "colab": {
     "base_uri": "https://localhost:8080/",
     "height": 977
    },
    "colab_type": "code",
    "executionInfo": {
     "elapsed": 608,
     "status": "ok",
     "timestamp": 1565544193901,
     "user": {
      "displayName": "Girish Kale",
      "photoUrl": "https://lh6.googleusercontent.com/-4N2IkDyaeEc/AAAAAAAAAAI/AAAAAAAASWE/To_sRqtOG5E/s64/photo.jpg",
      "userId": "14754894672992950083"
     },
     "user_tz": 240
    },
    "id": "s_rYIn9rybNu",
    "outputId": "50b80fd4-1298-4228-b6f8-fc409b1b7552"
   },
   "outputs": [
    {
     "name": "stdout",
     "output_type": "stream",
     "text": [
      "Failed to import pydot. You must install pydot and graphviz for `pydotprint` to work.\n"
     ]
    }
   ],
   "source": [
    "keras.utils.plot_model(model, 'my_first_model_with_shape_info.png', show_shapes=True)"
   ]
  },
  {
   "cell_type": "code",
   "execution_count": 37,
   "metadata": {
    "colab": {},
    "colab_type": "code",
    "id": "2TdT5WtJyvlH"
   },
   "outputs": [],
   "source": [
    "model.compile(loss='binary_crossentropy',\n",
    "              optimizer='Adadelta',\n",
    "              metrics=['accuracy'])"
   ]
  },
  {
   "cell_type": "code",
   "execution_count": 38,
   "metadata": {
    "colab": {
     "base_uri": "https://localhost:8080/",
     "height": 537
    },
    "colab_type": "code",
    "executionInfo": {
     "elapsed": 104852,
     "status": "error",
     "timestamp": 1565544305260,
     "user": {
      "displayName": "Girish Kale",
      "photoUrl": "https://lh6.googleusercontent.com/-4N2IkDyaeEc/AAAAAAAAAAI/AAAAAAAASWE/To_sRqtOG5E/s64/photo.jpg",
      "userId": "14754894672992950083"
     },
     "user_tz": 240
    },
    "id": "zM8w7Bsky7bm",
    "outputId": "d354d2cb-7d9a-4ff0-a948-369362dcb211"
   },
   "outputs": [
    {
     "name": "stdout",
     "output_type": "stream",
     "text": [
      "Train on 1214434 samples, validate on 303609 samples\n"
     ]
    },
    {
     "name": "stderr",
     "output_type": "stream",
     "text": [
      "W0811 16:17:38.472365 24364 deprecation.py:323] From C:\\Users\\giris\\Anaconda3\\lib\\site-packages\\tensorflow\\python\\ops\\math_grad.py:1250: add_dispatch_support.<locals>.wrapper (from tensorflow.python.ops.array_ops) is deprecated and will be removed in a future version.\n",
      "Instructions for updating:\n",
      "Use tf.where in 2.0, which has the same broadcast rule as np.where\n"
     ]
    },
    {
     "name": "stdout",
     "output_type": "stream",
     "text": [
      "Epoch 1/20\n",
      "1214434/1214434 [==============================] - 4s 3us/sample - loss: 7.6720 - acc: 0.4996 - val_loss: 7.6593 - val_acc: 0.5005\n",
      "Epoch 2/20\n",
      "1214434/1214434 [==============================] - 5s 4us/sample - loss: 7.6720 - acc: 0.4996 - val_loss: 7.6593 - val_acc: 0.5005\n",
      "Epoch 3/20\n",
      "1214434/1214434 [==============================] - 4s 4us/sample - loss: 7.6720 - acc: 0.4996 - val_loss: 7.6593 - val_acc: 0.5005\n",
      "Epoch 4/20\n",
      "1214434/1214434 [==============================] - 3s 3us/sample - loss: 7.6720 - acc: 0.4996 - val_loss: 7.6593 - val_acc: 0.5005\n",
      "Epoch 5/20\n",
      "1214434/1214434 [==============================] - 4s 4us/sample - loss: 7.6720 - acc: 0.4996 - val_loss: 7.6593 - val_acc: 0.5005\n",
      "Epoch 6/20\n",
      "1214434/1214434 [==============================] - 4s 3us/sample - loss: 7.6720 - acc: 0.4996 - val_loss: 7.6593 - val_acc: 0.5005\n",
      "Epoch 7/20\n",
      "1214434/1214434 [==============================] - 3s 3us/sample - loss: 7.6720 - acc: 0.4996 - val_loss: 7.6593 - val_acc: 0.5005\n",
      "Epoch 8/20\n",
      "1214434/1214434 [==============================] - 5s 4us/sample - loss: 7.6720 - acc: 0.4996 - val_loss: 7.6593 - val_acc: 0.5005\n",
      "Epoch 9/20\n",
      "1214434/1214434 [==============================] - 4s 3us/sample - loss: 7.6720 - acc: 0.4996 - val_loss: 7.6593 - val_acc: 0.5005\n",
      "Epoch 10/20\n",
      "1214434/1214434 [==============================] - 4s 4us/sample - loss: 7.6720 - acc: 0.4996 - val_loss: 7.6593 - val_acc: 0.5005\n",
      "Epoch 11/20\n",
      "1214434/1214434 [==============================] - 5s 4us/sample - loss: 7.6720 - acc: 0.4996 - val_loss: 7.6593 - val_acc: 0.5005\n",
      "Epoch 12/20\n",
      "1214434/1214434 [==============================] - 4s 3us/sample - loss: 7.6720 - acc: 0.4996 - val_loss: 7.6593 - val_acc: 0.5005\n",
      "Epoch 13/20\n",
      "1214434/1214434 [==============================] - 5s 4us/sample - loss: 7.6720 - acc: 0.4996 - val_loss: 7.6593 - val_acc: 0.5005\n",
      "Epoch 14/20\n",
      "1214434/1214434 [==============================] - 5s 4us/sample - loss: 7.6720 - acc: 0.4996 - val_loss: 7.6593 - val_acc: 0.5005\n",
      "Epoch 15/20\n",
      "1214434/1214434 [==============================] - 5s 4us/sample - loss: 7.6720 - acc: 0.4996 - val_loss: 7.6593 - val_acc: 0.5005\n",
      "Epoch 16/20\n",
      "1214434/1214434 [==============================] - 4s 3us/sample - loss: 7.6720 - acc: 0.4996 - val_loss: 7.6593 - val_acc: 0.5005\n",
      "Epoch 17/20\n",
      "1214434/1214434 [==============================] - 5s 4us/sample - loss: 7.6720 - acc: 0.4996 - val_loss: 7.6593 - val_acc: 0.5005\n",
      "Epoch 18/20\n",
      "1214434/1214434 [==============================] - 4s 4us/sample - loss: 7.6720 - acc: 0.4996 - val_loss: 7.6593 - val_acc: 0.5005\n",
      "Epoch 19/20\n",
      "1214434/1214434 [==============================] - 5s 4us/sample - loss: 7.6720 - acc: 0.4996 - val_loss: 7.6593 - val_acc: 0.5005\n",
      "Epoch 20/20\n",
      "1214434/1214434 [==============================] - 4s 3us/sample - loss: 7.6720 - acc: 0.4996 - val_loss: 7.6593 - val_acc: 0.5005\n"
     ]
    }
   ],
   "source": [
    "history = model.fit(X_train, y_train,\n",
    "                    batch_size=10000,\n",
    "                    epochs=20,\n",
    "                    validation_split=0.2)"
   ]
  },
  {
   "cell_type": "code",
   "execution_count": 39,
   "metadata": {},
   "outputs": [
    {
     "name": "stdout",
     "output_type": "stream",
     "text": [
      "Train on 1214434 samples, validate on 303609 samples\n"
     ]
    },
    {
     "name": "stderr",
     "output_type": "stream",
     "text": [
      "W0811 16:19:04.990303 24364 deprecation.py:506] From C:\\Users\\giris\\Anaconda3\\lib\\site-packages\\tensorflow\\python\\keras\\optimizer_v2\\adagrad.py:105: calling Constant.__init__ (from tensorflow.python.ops.init_ops) with dtype is deprecated and will be removed in a future version.\n",
      "Instructions for updating:\n",
      "Call initializer instance with the dtype argument instead of passing it to the constructor\n"
     ]
    },
    {
     "name": "stdout",
     "output_type": "stream",
     "text": [
      "Epoch 1/20\n",
      "1214434/1214434 [==============================] - 4s 3us/sample - loss: 7.6720 - acc: 0.4996 - val_loss: 7.6593 - val_acc: 0.5005\n",
      "Epoch 2/20\n",
      "1214434/1214434 [==============================] - 4s 4us/sample - loss: 7.6720 - acc: 0.4996 - val_loss: 7.6593 - val_acc: 0.5005\n",
      "Epoch 3/20\n",
      "1214434/1214434 [==============================] - 3s 3us/sample - loss: 7.6720 - acc: 0.4996 - val_loss: 7.6593 - val_acc: 0.5005\n",
      "Epoch 4/20\n",
      "1214434/1214434 [==============================] - 5s 4us/sample - loss: 7.6720 - acc: 0.4996 - val_loss: 7.6593 - val_acc: 0.5005\n",
      "Epoch 5/20\n",
      "1214434/1214434 [==============================] - 4s 4us/sample - loss: 7.6720 - acc: 0.4996 - val_loss: 7.6593 - val_acc: 0.5005\n",
      "Epoch 6/20\n",
      "1214434/1214434 [==============================] - 4s 3us/sample - loss: 7.6720 - acc: 0.4996 - val_loss: 7.6593 - val_acc: 0.5005\n",
      "Epoch 7/20\n",
      "1214434/1214434 [==============================] - 4s 3us/sample - loss: 7.6720 - acc: 0.4996 - val_loss: 7.6593 - val_acc: 0.5005\n",
      "Epoch 8/20\n",
      "1214434/1214434 [==============================] - 4s 4us/sample - loss: 7.6720 - acc: 0.4996 - val_loss: 7.6593 - val_acc: 0.5005\n",
      "Epoch 9/20\n",
      "1214434/1214434 [==============================] - 4s 3us/sample - loss: 7.6720 - acc: 0.4996 - val_loss: 7.6593 - val_acc: 0.5005\n",
      "Epoch 10/20\n",
      "1214434/1214434 [==============================] - 4s 3us/sample - loss: 7.6720 - acc: 0.4996 - val_loss: 7.6593 - val_acc: 0.5005\n",
      "Epoch 11/20\n",
      "1214434/1214434 [==============================] - 3s 2us/sample - loss: 7.6720 - acc: 0.4996 - val_loss: 7.6593 - val_acc: 0.5005\n",
      "Epoch 12/20\n",
      "1214434/1214434 [==============================] - 4s 3us/sample - loss: 7.6720 - acc: 0.4996 - val_loss: 7.6593 - val_acc: 0.5005\n",
      "Epoch 13/20\n",
      "1214434/1214434 [==============================] - 4s 4us/sample - loss: 7.6720 - acc: 0.4996 - val_loss: 7.6593 - val_acc: 0.5005: 1s - loss: 7.6\n",
      "Epoch 14/20\n",
      "1214434/1214434 [==============================] - 4s 3us/sample - loss: 7.6720 - acc: 0.4996 - val_loss: 7.6593 - val_acc: 0.5005\n",
      "Epoch 15/20\n",
      "1214434/1214434 [==============================] - 3s 2us/sample - loss: 7.6720 - acc: 0.4996 - val_loss: 7.6593 - val_acc: 0.5005\n",
      "Epoch 16/20\n",
      "1214434/1214434 [==============================] - 4s 3us/sample - loss: 7.6720 - acc: 0.4996 - val_loss: 7.6593 - val_acc: 0.5005\n",
      "Epoch 17/20\n",
      "1214434/1214434 [==============================] - 3s 3us/sample - loss: 7.6720 - acc: 0.4996 - val_loss: 7.6593 - val_acc: 0.5005\n",
      "Epoch 18/20\n",
      "1214434/1214434 [==============================] - 4s 4us/sample - loss: 7.6720 - acc: 0.4996 - val_loss: 7.6593 - val_acc: 0.5005\n",
      "Epoch 19/20\n",
      "1214434/1214434 [==============================] - 3s 3us/sample - loss: 7.6720 - acc: 0.4996 - val_loss: 7.6593 - val_acc: 0.5005\n",
      "Epoch 20/20\n",
      "1214434/1214434 [==============================] - 4s 3us/sample - loss: 7.6720 - acc: 0.4996 - val_loss: 7.6593 - val_acc: 0.5005\n"
     ]
    }
   ],
   "source": [
    "model.compile(loss='binary_crossentropy',\n",
    "              optimizer='Adagrad',\n",
    "              metrics=['accuracy'])\n",
    "\n",
    "history = model.fit(X_train, y_train,\n",
    "                    batch_size=10000,\n",
    "                    epochs=20,\n",
    "                    validation_split=0.2)"
   ]
  },
  {
   "cell_type": "code",
   "execution_count": 40,
   "metadata": {},
   "outputs": [
    {
     "name": "stdout",
     "output_type": "stream",
     "text": [
      "Train on 1214434 samples, validate on 303609 samples\n",
      "Epoch 1/20\n",
      "1214434/1214434 [==============================] - 5s 4us/sample - loss: 7.6720 - acc: 0.4996 - val_loss: 7.6593 - val_acc: 0.5005\n",
      "Epoch 2/20\n",
      "1214434/1214434 [==============================] - 4s 4us/sample - loss: 7.6720 - acc: 0.4996 - val_loss: 7.6593 - val_acc: 0.5005\n",
      "Epoch 3/20\n",
      "1214434/1214434 [==============================] - 4s 3us/sample - loss: 7.6720 - acc: 0.4996 - val_loss: 7.6593 - val_acc: 0.5005\n",
      "Epoch 4/20\n",
      "1214434/1214434 [==============================] - 4s 3us/sample - loss: 7.6720 - acc: 0.4996 - val_loss: 7.6593 - val_acc: 0.5005\n",
      "Epoch 5/20\n",
      "1214434/1214434 [==============================] - 4s 3us/sample - loss: 7.6720 - acc: 0.4996 - val_loss: 7.6593 - val_acc: 0.5005\n",
      "Epoch 6/20\n",
      "1214434/1214434 [==============================] - 4s 3us/sample - loss: 7.6720 - acc: 0.4996 - val_loss: 7.6593 - val_acc: 0.5005\n",
      "Epoch 7/20\n",
      "1214434/1214434 [==============================] - 3s 3us/sample - loss: 7.6720 - acc: 0.4996 - val_loss: 7.6593 - val_acc: 0.5005\n",
      "Epoch 8/20\n",
      "1214434/1214434 [==============================] - 4s 3us/sample - loss: 7.6720 - acc: 0.4996 - val_loss: 7.6593 - val_acc: 0.5005\n",
      "Epoch 9/20\n",
      "1214434/1214434 [==============================] - 4s 4us/sample - loss: 7.6720 - acc: 0.4996 - val_loss: 7.6593 - val_acc: 0.5005\n",
      "Epoch 10/20\n",
      "1214434/1214434 [==============================] - 4s 3us/sample - loss: 7.6720 - acc: 0.4996 - val_loss: 7.6593 - val_acc: 0.5005\n",
      "Epoch 11/20\n",
      "1214434/1214434 [==============================] - 3s 3us/sample - loss: 7.6720 - acc: 0.4996 - val_loss: 7.6593 - val_acc: 0.5005\n",
      "Epoch 12/20\n",
      "1214434/1214434 [==============================] - 4s 4us/sample - loss: 7.6720 - acc: 0.4996 - val_loss: 7.6593 - val_acc: 0.5005\n",
      "Epoch 13/20\n",
      "1214434/1214434 [==============================] - 4s 3us/sample - loss: 7.6720 - acc: 0.4996 - val_loss: 7.6593 - val_acc: 0.5005\n",
      "Epoch 14/20\n",
      "1214434/1214434 [==============================] - 4s 3us/sample - loss: 7.6720 - acc: 0.4996 - val_loss: 7.6593 - val_acc: 0.5005\n",
      "Epoch 15/20\n",
      "1214434/1214434 [==============================] - 3s 3us/sample - loss: 7.6720 - acc: 0.4996 - val_loss: 7.6593 - val_acc: 0.5005\n",
      "Epoch 16/20\n",
      "1214434/1214434 [==============================] - 4s 4us/sample - loss: 7.6720 - acc: 0.4996 - val_loss: 7.6593 - val_acc: 0.5005\n",
      "Epoch 17/20\n",
      "1214434/1214434 [==============================] - 4s 3us/sample - loss: 7.6720 - acc: 0.4996 - val_loss: 7.6593 - val_acc: 0.5005\n",
      "Epoch 18/20\n",
      "1214434/1214434 [==============================] - 5s 4us/sample - loss: 7.6720 - acc: 0.4996 - val_loss: 7.6593 - val_acc: 0.5005\n",
      "Epoch 19/20\n",
      "1214434/1214434 [==============================] - 3s 3us/sample - loss: 7.6720 - acc: 0.4996 - val_loss: 7.6593 - val_acc: 0.5005\n",
      "Epoch 20/20\n",
      "1214434/1214434 [==============================] - 3s 3us/sample - loss: 7.6720 - acc: 0.4996 - val_loss: 7.6593 - val_acc: 0.5005\n"
     ]
    }
   ],
   "source": [
    "model.compile(loss='binary_crossentropy',\n",
    "              optimizer='Adamax',\n",
    "              metrics=['accuracy'])\n",
    "\n",
    "history = model.fit(X_train, y_train,\n",
    "                    batch_size=10000,\n",
    "                    epochs=20,\n",
    "                    validation_split=0.2)"
   ]
  },
  {
   "cell_type": "code",
   "execution_count": 41,
   "metadata": {},
   "outputs": [
    {
     "name": "stdout",
     "output_type": "stream",
     "text": [
      "Train on 1214434 samples, validate on 303609 samples\n",
      "Epoch 1/20\n",
      "1214434/1214434 [==============================] - 5s 4us/sample - loss: 7.6720 - acc: 0.4996 - val_loss: 7.6593 - val_acc: 0.5005\n",
      "Epoch 2/20\n",
      "1214434/1214434 [==============================] - 4s 3us/sample - loss: 7.6720 - acc: 0.4996 - val_loss: 7.6593 - val_acc: 0.5005\n",
      "Epoch 3/20\n",
      "1214434/1214434 [==============================] - 5s 4us/sample - loss: 7.6720 - acc: 0.4996 - val_loss: 7.6593 - val_acc: 0.5005\n",
      "Epoch 4/20\n",
      "1214434/1214434 [==============================] - 4s 3us/sample - loss: 7.6720 - acc: 0.4996 - val_loss: 7.6593 - val_acc: 0.5005\n",
      "Epoch 5/20\n",
      "1214434/1214434 [==============================] - 4s 3us/sample - loss: 7.6720 - acc: 0.4996 - val_loss: 7.6593 - val_acc: 0.5005\n",
      "Epoch 6/20\n",
      "1214434/1214434 [==============================] - 3s 2us/sample - loss: 7.6720 - acc: 0.4996 - val_loss: 7.6593 - val_acc: 0.5005\n",
      "Epoch 7/20\n",
      "1214434/1214434 [==============================] - 4s 3us/sample - loss: 7.6720 - acc: 0.4996 - val_loss: 7.6593 - val_acc: 0.5005\n",
      "Epoch 8/20\n",
      "1214434/1214434 [==============================] - 4s 4us/sample - loss: 7.6720 - acc: 0.4996 - val_loss: 7.6593 - val_acc: 0.5005\n",
      "Epoch 9/20\n",
      "1214434/1214434 [==============================] - 5s 4us/sample - loss: 7.6720 - acc: 0.4996 - val_loss: 7.6593 - val_acc: 0.5005\n",
      "Epoch 10/20\n",
      "1214434/1214434 [==============================] - 3s 2us/sample - loss: 7.6720 - acc: 0.4996 - val_loss: 7.6593 - val_acc: 0.5005\n",
      "Epoch 11/20\n",
      "1214434/1214434 [==============================] - 5s 4us/sample - loss: 7.6720 - acc: 0.4996 - val_loss: 7.6593 - val_acc: 0.5005\n",
      "Epoch 12/20\n",
      "1214434/1214434 [==============================] - 4s 3us/sample - loss: 7.6720 - acc: 0.4996 - val_loss: 7.6593 - val_acc: 0.5005\n",
      "Epoch 13/20\n",
      "1214434/1214434 [==============================] - 5s 4us/sample - loss: 7.6720 - acc: 0.4996 - val_loss: 7.6593 - val_acc: 0.5005\n",
      "Epoch 14/20\n",
      "1214434/1214434 [==============================] - 3s 3us/sample - loss: 7.6720 - acc: 0.4996 - val_loss: 7.6593 - val_acc: 0.5005\n",
      "Epoch 15/20\n",
      "1214434/1214434 [==============================] - 5s 4us/sample - loss: 7.6720 - acc: 0.4996 - val_loss: 7.6593 - val_acc: 0.5005\n",
      "Epoch 16/20\n",
      "1214434/1214434 [==============================] - 4s 3us/sample - loss: 7.6720 - acc: 0.4996 - val_loss: 7.6593 - val_acc: 0.5005\n",
      "Epoch 17/20\n",
      "1214434/1214434 [==============================] - 5s 4us/sample - loss: 7.6720 - acc: 0.4996 - val_loss: 7.6593 - val_acc: 0.5005\n",
      "Epoch 18/20\n",
      "1214434/1214434 [==============================] - 3s 3us/sample - loss: 7.6720 - acc: 0.4996 - val_loss: 7.6593 - val_acc: 0.5005\n",
      "Epoch 19/20\n",
      "1214434/1214434 [==============================] - 3s 3us/sample - loss: 7.6720 - acc: 0.4996 - val_loss: 7.6593 - val_acc: 0.5005\n",
      "Epoch 20/20\n",
      "1214434/1214434 [==============================] - 4s 4us/sample - loss: 7.6720 - acc: 0.4996 - val_loss: 7.6593 - val_acc: 0.5005\n"
     ]
    }
   ],
   "source": [
    "model.compile(loss='binary_crossentropy',\n",
    "              optimizer='Nadam',\n",
    "              metrics=['accuracy'])\n",
    "\n",
    "history = model.fit(X_train, y_train,\n",
    "                    batch_size=10000,\n",
    "                    epochs=20,\n",
    "                    validation_split=0.2)"
   ]
  },
  {
   "cell_type": "code",
   "execution_count": 42,
   "metadata": {},
   "outputs": [
    {
     "name": "stdout",
     "output_type": "stream",
     "text": [
      "Train on 1214434 samples, validate on 303609 samples\n",
      "Epoch 1/7\n",
      "1214434/1214434 [==============================] - 4s 3us/sample - loss: 7.6720 - acc: 0.4996 - val_loss: 7.6593 - val_acc: 0.5005\n",
      "Epoch 2/7\n",
      "1214434/1214434 [==============================] - 4s 4us/sample - loss: 7.6720 - acc: 0.4996 - val_loss: 7.6593 - val_acc: 0.5005\n",
      "Epoch 3/7\n",
      "1214434/1214434 [==============================] - 4s 4us/sample - loss: 7.6720 - acc: 0.4996 - val_loss: 7.6593 - val_acc: 0.5005\n",
      "Epoch 4/7\n",
      "1214434/1214434 [==============================] - 4s 4us/sample - loss: 7.6720 - acc: 0.4996 - val_loss: 7.6593 - val_acc: 0.5005\n",
      "Epoch 5/7\n",
      "1214434/1214434 [==============================] - 4s 3us/sample - loss: 7.6720 - acc: 0.4996 - val_loss: 7.6593 - val_acc: 0.5005\n",
      "Epoch 6/7\n",
      "1214434/1214434 [==============================] - 3s 3us/sample - loss: 7.6720 - acc: 0.4996 - val_loss: 7.6593 - val_acc: 0.5005\n",
      "Epoch 7/7\n",
      "1214434/1214434 [==============================] - 4s 4us/sample - loss: 7.6720 - acc: 0.4996 - val_loss: 7.6593 - val_acc: 0.5005\n"
     ]
    }
   ],
   "source": [
    "model.compile(loss='binary_crossentropy',\n",
    "              optimizer='RMSprop',\n",
    "              metrics=['accuracy'])\n",
    "\n",
    "history = model.fit(X_train, y_train,\n",
    "                    batch_size=10000,\n",
    "                    epochs=7,\n",
    "                    validation_split=0.2)"
   ]
  },
  {
   "cell_type": "code",
   "execution_count": 43,
   "metadata": {},
   "outputs": [
    {
     "name": "stdout",
     "output_type": "stream",
     "text": [
      "Train on 1214434 samples, validate on 303609 samples\n",
      "Epoch 1/7\n",
      "1214434/1214434 [==============================] - 12s 10us/sample - loss: 7.6721 - acc: 0.4996 - val_loss: 7.6593 - val_acc: 0.5005\n",
      "Epoch 2/7\n",
      "1214434/1214434 [==============================] - 13s 11us/sample - loss: 7.6721 - acc: 0.4996 - val_loss: 7.6593 - val_acc: 0.5005\n",
      "Epoch 3/7\n",
      "1214434/1214434 [==============================] - 13s 11us/sample - loss: 7.6721 - acc: 0.4996 - val_loss: 7.6593 - val_acc: 0.5005\n",
      "Epoch 4/7\n",
      "1214434/1214434 [==============================] - 12s 10us/sample - loss: 7.6721 - acc: 0.4996 - val_loss: 7.6593 - val_acc: 0.5005\n",
      "Epoch 5/7\n",
      "1214434/1214434 [==============================] - 12s 10us/sample - loss: 7.6721 - acc: 0.4996 - val_loss: 7.6593 - val_acc: 0.5005\n",
      "Epoch 6/7\n",
      "1214434/1214434 [==============================] - 11s 9us/sample - loss: 7.6721 - acc: 0.4996 - val_loss: 7.6593 - val_acc: 0.5005\n",
      "Epoch 7/7\n",
      "1214434/1214434 [==============================] - 13s 11us/sample - loss: 7.6721 - acc: 0.4996 - val_loss: 7.6593 - val_acc: 0.5005\n"
     ]
    }
   ],
   "source": [
    "model.compile(loss='binary_crossentropy',\n",
    "              optimizer=keras.optimizers.Adam(lr=0.001),\n",
    "              metrics=['accuracy'])\n",
    "\n",
    "\n",
    "history = model.fit(X_train, y_train,\n",
    "                    batch_size=1000,\n",
    "                    epochs=7, shuffle=True,\n",
    "                    validation_split=0.2)\n"
   ]
  },
  {
   "cell_type": "markdown",
   "metadata": {
    "colab_type": "text",
    "id": "IctpZDUn43NO"
   },
   "source": []
  },
  {
   "cell_type": "code",
   "execution_count": 44,
   "metadata": {
    "colab": {
     "base_uri": "https://localhost:8080/",
     "height": 52
    },
    "colab_type": "code",
    "executionInfo": {
     "elapsed": 900179,
     "status": "ok",
     "timestamp": 1565531831878,
     "user": {
      "displayName": "Girish Kale",
      "photoUrl": "https://lh6.googleusercontent.com/-4N2IkDyaeEc/AAAAAAAAAAI/AAAAAAAASWE/To_sRqtOG5E/s64/photo.jpg",
      "userId": "14754894672992950083"
     },
     "user_tz": 240
    },
    "id": "1ONUwSLa0eyu",
    "outputId": "7569c0b0-f6c9-454a-ba46-c8962bc06643"
   },
   "outputs": [
    {
     "name": "stdout",
     "output_type": "stream",
     "text": [
      "Test loss: 7.655084534073066\n",
      "Test accuracy: 50.07522702217102 %\n"
     ]
    }
   ],
   "source": [
    "test_scores = model.evaluate(X_test, y_test, verbose=0)\n",
    "\n",
    "print('Test loss:', test_scores[0])\n",
    "print('Test accuracy:', test_scores[1]*100,'%')\n",
    "\n"
   ]
  }
 ],
 "metadata": {
  "accelerator": "TPU",
  "colab": {
   "collapsed_sections": [],
   "name": "Team-Project-10th_Aug_Evening_GK.ipynb",
   "provenance": [
    {
     "file_id": "1gLA6o54utZXaBQRJRUJgdZksSzXvOgQ2",
     "timestamp": 1565316995213
    },
    {
     "file_id": "1stIC1XnRvbewou2VFC34sOobv22nBOT0",
     "timestamp": 1564975625704
    },
    {
     "file_id": "1F4sPgE6ceFq69sMHpQf007CRd90q1lc0",
     "timestamp": 1564475821666
    },
    {
     "file_id": "1sMwSMc7d0I_j8AHFii5nKFHhLkCSCGg-",
     "timestamp": 1564344425932
    }
   ],
   "version": "0.3.2"
  },
  "kernelspec": {
   "display_name": "Python 3",
   "language": "python",
   "name": "python3"
  },
  "language_info": {
   "codemirror_mode": {
    "name": "ipython",
    "version": 3
   },
   "file_extension": ".py",
   "mimetype": "text/x-python",
   "name": "python",
   "nbconvert_exporter": "python",
   "pygments_lexer": "ipython3",
   "version": "3.7.3"
  }
 },
 "nbformat": 4,
 "nbformat_minor": 1
}
